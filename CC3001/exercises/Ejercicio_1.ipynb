{
 "cells": [
  {
   "cell_type": "markdown",
   "metadata": {},
   "source": [
    "### Nombre: Sebastián Urbina"
   ]
  },
  {
   "cell_type": "markdown",
   "metadata": {},
   "source": [
    "### *Ejercicio* *La función ``maximo`` hace  n−1  comparaciones de elementos para encontrar el máximo de un conjunto de tamaño  n .* *Supongamos que se desea escribir una función ``minmax`` que al ser llamada con una lista de números, retorne un par ordenado (tupla) ``(min,max)``, con el mínimo y el máximo elemento del conjunto, respectivamente. Escriba a continuación esa función haciendo dos pasadas sobre los datos: una para encontrar el mínimo y otra para encontrar el máximo, y pruébela sobre una lista de ejemplo.*"
   ]
  },
  {
   "cell_type": "code",
   "execution_count": 1,
   "metadata": {},
   "outputs": [],
   "source": [
    "def minmax(a):\n",
    "    minimo = a[0]\n",
    "    maximo = a[0]\n",
    "    for i in range(1,len(a)):\n",
    "        if a[i] > maximo:\n",
    "            maximo = a[i]\n",
    "        if a[i] < minimo:\n",
    "            minimo = a[i]\n",
    "    return (minimo,maximo)"
   ]
  },
  {
   "cell_type": "code",
   "execution_count": 2,
   "metadata": {},
   "outputs": [
    {
     "name": "stdout",
     "output_type": "stream",
     "text": [
      "Lista: [-2, -4, 1, 5, 10] \n",
      " min = -4, max = 10\n"
     ]
    }
   ],
   "source": [
    "#Prueba\n",
    "l = [-2,-4,1,5,10]\n",
    "print(\"Lista: {} \\n min = {}, max = {}\".format(l,minmax(l)[0],minmax(l)[1]))"
   ]
  },
  {
   "cell_type": "markdown",
   "metadata": {},
   "source": [
    "*La función anterior debería hacer  2n−2  comparaciones de elementos ( 2n−3  si se evita comparar el elemento seleccionado en la primera pasada). ¿Será posible encontrar el mínimo y el máximo haciendo muchas menos comparaciones?* *¡La respuesta es que sí! Veámoslo con un ejemplo. Para simplificar, supongamos que la lista es de largo par:*\n",
    "[45,21,34,67,55,89,44,12]\n",
    " \n",
    "*Luego comparemos cada elemento que está en una posición par con su vecino de la derecha, e intercambiémoslos de modo que el par quede en orden ascendente (recuerde que las posiciones comienzan desde cero):*\n",
    "[21,45,34,67,55,89,12,44]\n",
    " \n",
    "*Luego hagamos una pasada solo sobre las posiciones pares para encontrar el mínimo ( 12 ), y otra pasada solo entre las posiciones impares para encontrar el máximo ( 89 ). ¡Listo!* *Programe este nuevo algoritmo, pruébelo y diga cuántas comparaciones hace en total.*"
   ]
  },
  {
   "cell_type": "code",
   "execution_count": 261,
   "metadata": {},
   "outputs": [],
   "source": [
    "def minmax2(a):\n",
    "    for i in range(0,len(a)-1,2): #primero recorremos la posiciones par de la lista y la ordenamos con el vecino de la derecha\n",
    "        if a[i] > a[i+1]:\n",
    "            a[i],a[i+1] = a[i+1],a[i] #Cambiamos de posicion\n",
    "    minimo = a[0]\n",
    "    maximo = a[0]\n",
    "    for i in range(1,len(a)-1,2): #Recorremos las posiciones impar\n",
    "        if a[i] > maximo:\n",
    "            maximo = a[i]\n",
    "    for i in range(2,len(a)-1,2): #Recorremos las posiciones par\n",
    "        if a[i] < minimo:\n",
    "            minimo = a[i]\n",
    "    #Finalmente comparamos la última posición\n",
    "    if a[-1] > maximo:\n",
    "        maximo = a[-1]\n",
    "    elif a[-1] < minimo:\n",
    "        minimo = a[-1]\n",
    "    return (minimo,maximo)"
   ]
  },
  {
   "cell_type": "code",
   "execution_count": 260,
   "metadata": {},
   "outputs": [
    {
     "name": "stdout",
     "output_type": "stream",
     "text": [
      "Lista par:[21, 45, 34, 67, 55, 89, 12, 44] \n",
      " min = 12, max = 89\n",
      "Lista impar:[-3, -2, -4, 0, 10] \n",
      " min = -4, max = 10\n"
     ]
    }
   ],
   "source": [
    "#Prueba\n",
    "l1 = [45,21,34,67,55,89,44,12] \n",
    "l2 = [-2,-3,0,-4,10]\n",
    "print(\"Lista par:{} \\n min = {}, max = {}\".format(l1, minmax2(l1)[0], minmax2(l1)[1])) #\n",
    "print(\"Lista impar:{} \\n min = {}, max = {}\".format(l2, minmax2(l2)[0], minmax2(l2)[1])) "
   ]
  },
  {
   "cell_type": "markdown",
   "metadata": {},
   "source": [
    "- Lista par: \n",
    "    - Primer for: $\\frac{n}{2}$ comparaciones\n",
    "    - Segundo for: $\\frac{n}{2}-1$ comparaciones, pues compara sólo las posiciones impar menos la última posición\n",
    "    - Tercer for: $\\frac{n}{2}-1$ comparaciones, pues compara sólo las posiciones par menos la última posición\n",
    "    - Finalmente se tienen $2$ comparaciones\n",
    "\n",
    "   \n",
    "Luego, si la lista es par, se realizan $\\frac{3n}{2}$ comparaciones\n",
    "\n",
    "- Lista impar: \n",
    "    - Primer for: $\\frac{n-1}{2}$ comparaciones\n",
    "    - Segundo for: $\\frac{n-1}{2}$ comparaciones, pues compara sólo las posiciones impar menos la última posición\n",
    "    - Tercer for: $\\frac{n-1}{2}$ comparaciones, pues compara sólo las posiciones par menos la última posición\n",
    "    - Finalmente se tienen $2$ comparaciones\n",
    "    \n",
    "Luego, si la lista es par, se realizan $\\frac{3(n-1)}{2}$ comparaciones\n",
    "\n",
    "Luego si se compara el primer algoritmo con el segundo, efectivamente el segundo es más eficiente, pues $\\forall n>6$ con $n$ par, $\\frac{3n}{2}< 2n-3$\n"
   ]
  }
 ],
 "metadata": {
  "kernelspec": {
   "display_name": "Python 3",
   "language": "python",
   "name": "python3"
  },
  "language_info": {
   "codemirror_mode": {
    "name": "ipython",
    "version": 3
   },
   "file_extension": ".py",
   "mimetype": "text/x-python",
   "name": "python",
   "nbconvert_exporter": "python",
   "pygments_lexer": "ipython3",
   "version": "3.7.6"
  }
 },
 "nbformat": 4,
 "nbformat_minor": 4
}
