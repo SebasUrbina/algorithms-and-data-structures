{
  "nbformat": 4,
  "nbformat_minor": 0,
  "metadata": {
    "colab": {
      "name": "Ejercicio 10.ipynb",
      "provenance": [],
      "collapsed_sections": []
    },
    "kernelspec": {
      "name": "python3",
      "display_name": "Python 3"
    }
  },
  "cells": [
    {
      "cell_type": "markdown",
      "metadata": {
        "id": "BCnOjuIc6Asn"
      },
      "source": [
        "# Nombre: Sebastián Urbina"
      ]
    },
    {
      "cell_type": "markdown",
      "metadata": {
        "id": "AHgyEzjMVM1s"
      },
      "source": [
        "# Ejercicio 10\n",
        "El ejercicio de esta semana corresponde al 6.3 del apunte."
      ]
    },
    {
      "cell_type": "markdown",
      "metadata": {
        "id": "7bVbKqr5FKYP"
      },
      "source": [
        "### Ejercicio 6.3 (Inserciones en una tabla de hashing con Linear Probing)\n",
        "\n",
        "Suponga que se tiene una tabla de hashing con Linear Probing, de tamaño 10, inicialmente vacía, con la función de hashing $h(x) = x \\bmod 10$ (por ejemplo, $h(64)=4$). Muestre en la siguiente tabla el resultado de insertar (a mano) la siguiente secuencia de llaves:\n",
        "\n",
        "```\n",
        "34, 59, 45, 27, 14, 22, 75, 25\n",
        "```"
      ]
    },
    {
      "cell_type": "markdown",
      "metadata": {
        "id": "oaUbnuezFKYP"
      },
      "source": [
        "![EjercicioLinearProbing](https://github.com/ppoblete/AED/blob/master/EjercicioLinearProbing.png?raw=1)\n",
        "\n",
        "Utilizaremos la siguiente función para ver si su respuesta está correcta:"
      ]
    },
    {
      "cell_type": "code",
      "metadata": {
        "id": "uRUHSyNUFKYP"
      },
      "source": [
        "def chequea_tabla(lista):\n",
        "    h=0\n",
        "    for x in lista:\n",
        "        h = (h*100+x) % 100000007\n",
        "    print(\"OK\" if h==60375958 else \"Error\")"
      ],
      "execution_count": 1,
      "outputs": []
    },
    {
      "cell_type": "markdown",
      "metadata": {
        "id": "RfBezRYOFKYP"
      },
      "source": [
        "En el siguiente recuadro reemplace la lista de ceros por la lista de los elementos resultantes en la tabla. Si un casillero queda vacío, escriba un cero."
      ]
    },
    {
      "cell_type": "markdown",
      "metadata": {
        "id": "YIYtDPnP5RGM"
      },
      "source": [
        "Cada valor de la secuencia de llaves se debe guardar en la posición $h(x)$, si la posición está ocupada se intenta guardar en $h(x)+1$ y así sucesivamente hasta encontrar un espacio vacío.\n",
        "\n",
        "Se obtiene el siguiente resultado:"
      ]
    },
    {
      "cell_type": "code",
      "metadata": {
        "id": "fzteVsIKFKYP",
        "colab": {
          "base_uri": "https://localhost:8080/"
        },
        "outputId": "45be86a4-6205-4b69-af7f-da9ef713420a"
      },
      "source": [
        "chequea_tabla([25,0,22,0,34,45,14,27,75,59])"
      ],
      "execution_count": 13,
      "outputs": [
        {
          "output_type": "stream",
          "text": [
            "OK\n"
          ],
          "name": "stdout"
        }
      ]
    }
  ]
}