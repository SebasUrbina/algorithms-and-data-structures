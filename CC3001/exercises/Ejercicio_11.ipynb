{
  "nbformat": 4,
  "nbformat_minor": 0,
  "metadata": {
    "colab": {
      "name": "Ejercicio 11.ipynb",
      "provenance": []
    },
    "kernelspec": {
      "name": "python3",
      "display_name": "Python 3"
    }
  },
  "cells": [
    {
      "cell_type": "markdown",
      "metadata": {
        "id": "RLS3ZrMUxRL6"
      },
      "source": [
        "# Nombre: Sebastián Urbina"
      ]
    },
    {
      "cell_type": "markdown",
      "metadata": {
        "id": "BXqFT59NY5Lg"
      },
      "source": [
        "# Ejercicio 11\r\n",
        "El ejercicio de esta semana corresponde al 7.1 del apunte."
      ]
    },
    {
      "cell_type": "markdown",
      "metadata": {
        "id": "fDoim_oCGoeD"
      },
      "source": [
        "### Ejercicio (Quicksort con mediana de 3)\n",
        "\n",
        "Modifique el algoritmo Quicksort para que en la fase de partición utilice como pivote a la mediana de 3 elementos elegidos al azar.\n",
        "\n",
        "Para esto, se recomienda modificar el algoritmo de partición de modo que seleccione 3 elementos al azar en el rango $i..j$ y los ordene, dejando en $a[i]$ el mínimo de los 3, en $a[i+1]$ la mediana de los 3 y en $a[j]$ el máximo de los 3. Luego, se aplica el algoritmo de partición ya conocido al segmento $a[i+2],\\ldots,a[j-1]$, con $a[i+1]$ como pivote. Al terminar, el pivote se mueve al centro y se retorna su posición.\n",
        "\n",
        "Otro cambio que se debe hacer es tratar los casos de arreglos de tamaño $0$, $1$ y $2$ como casos de borde, y aplicar ``qsort`` recursivo solo a arreglos de tamaño mayor o igual a 3.\n",
        "\n",
        "En el siguiente recuadro escriba su algoritmo modificado y luego ejecute las instrucciones de prueba del recuadro siguiente."
      ]
    },
    {
      "cell_type": "code",
      "metadata": {
        "id": "RF2zcgXPGoeD"
      },
      "source": [
        "import numpy as np\n",
        "\n",
        "def particion2(a,i,j):\n",
        "    x = np.random.randint(i,j) #generamos valor al azar\n",
        "    (a[i], a[x]) = (a[x], a[i]) #swap \n",
        "    y = np.random.randint(i+1,j) #generamos valor al azar\n",
        "    (a[y], a[j]) = (a[j], a[y]) #swap \n",
        "    z = np.random.randint(i+1, j) #generamos valor al azar\n",
        "    (a[i+1], a[z]) = (a[z], a[i+1]) #swap \n",
        "    e = [a[i], a[i+1], a[j]] \n",
        "    e.sort() #aseguramos que estén en orden ascendente\n",
        "    a[i], a[i+1], a[j] = e[0], e[1], e[2]\n",
        "\n",
        "    s = i+1 #particionamos el restos de valores con lomuto\n",
        "    for t in range(s,j-1):\n",
        "        if a[t+1]<=a[i+1]:\n",
        "            (a[s+1],a[t+1]) = (a[t+1],a[s+1])\n",
        "            s = s+1\n",
        "    (a[i+1],a[s]) = (a[s],a[i+1])\n",
        "    return s\n",
        "\n",
        "def qsort(a,i,j):\n",
        "    if i+1<j: #Si hay almenos 3 elementos\n",
        "        k = particion2(a,i,j)\n",
        "        qsort(a,i,k-1)\n",
        "        qsort(a,k+1,j)\n",
        "    elif i<j: #si hay sólo dos elementos\n",
        "        if a[j] <= a[i]:\n",
        "            (a[i], a[j]) = (a[j],a [i])\n",
        "\n",
        "def quicksort3(a):\n",
        "    qsort(a,0,len(a)-1)"
      ],
      "execution_count": 76,
      "outputs": []
    },
    {
      "cell_type": "code",
      "metadata": {
        "id": "mrgB64KvGoeE",
        "colab": {
          "base_uri": "https://localhost:8080/"
        },
        "outputId": "e008596d-93ae-43af-f15b-0adfee229f44"
      },
      "source": [
        "import numpy as np\n",
        "def chequea_orden(a):\n",
        "  print(\"Ordenado\" if np.all(a[:-1]<=a[1:]) else \"Desordenado\")\n",
        "  \n",
        "a = np.random.random(12)\n",
        "print(a)\n",
        "chequea_orden(a)\n",
        "quicksort3(a)\n",
        "print(a)\n",
        "chequea_orden(a)"
      ],
      "execution_count": 77,
      "outputs": [
        {
          "output_type": "stream",
          "text": [
            "[0.62590693 0.38883824 0.85036318 0.16707358 0.25608092 0.06472164\n",
            " 0.52710961 0.58416705 0.69735264 0.09274963 0.97376047 0.53607586]\n",
            "Desordenado\n",
            "[0.06472164 0.09274963 0.16707358 0.25608092 0.38883824 0.52710961\n",
            " 0.53607586 0.58416705 0.62590693 0.69735264 0.85036318 0.97376047]\n",
            "Ordenado\n"
          ],
          "name": "stdout"
        }
      ]
    }
  ]
}