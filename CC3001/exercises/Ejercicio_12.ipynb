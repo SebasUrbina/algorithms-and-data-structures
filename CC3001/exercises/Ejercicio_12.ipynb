{
  "nbformat": 4,
  "nbformat_minor": 0,
  "metadata": {
    "colab": {
      "name": "Ejercicio 12.ipynb",
      "provenance": [],
      "collapsed_sections": []
    },
    "kernelspec": {
      "name": "python3",
      "display_name": "Python 3"
    }
  },
  "cells": [
    {
      "cell_type": "markdown",
      "metadata": {
        "id": "GbMxJzYzn8_M"
      },
      "source": [
        "# Nombre: Sebastián Urbina"
      ]
    },
    {
      "cell_type": "markdown",
      "metadata": {
        "id": "kStNrjIRm7pa"
      },
      "source": [
        "# Ejercicio 12\r\n",
        "El ejercicio de esta semana corresponde al 7.2 del apunte."
      ]
    },
    {
      "cell_type": "markdown",
      "metadata": {
        "id": "_QHi0tMRN5pI"
      },
      "source": [
        "### Ejercicio (Radix Sort)\n",
        "\n",
        "Ordene el conjunto\n",
        "\n",
        "```\n",
        "    73895\n",
        "    93754\n",
        "    82149\n",
        "    99046\n",
        "    04853\n",
        "    94171\n",
        "    54963\n",
        "    70471\n",
        "    80564\n",
        "    66496\n",
        "```\n",
        "\n",
        "usando Radix Sort. Muestre el estado del conjunto después cada pasada (una pasada consiste en la separación en grupos de acuerdo a los dígitos presentes en la columna que se está procesando, seguida de la concatenación de los grupos resultantes). Recuerde que las columnas se procesan de derecha a izquierda."
      ]
    },
    {
      "cell_type": "markdown",
      "metadata": {
        "id": "EyCN8AfHpcvE"
      },
      "source": [
        "Primero ordenamos los números por la unidades, osea el dígito de más a la derecha\r\n",
        "```\r\n",
        "    94171\r\n",
        "    70471\r\n",
        "    04853\r\n",
        "    54963\r\n",
        "    93754\r\n",
        "    80564\r\n",
        "    73895\r\n",
        "    99046\r\n",
        "    66496\r\n",
        "    82149\r\n",
        "```\r\n"
      ]
    },
    {
      "cell_type": "markdown",
      "metadata": {
        "id": "dnzrkbJ0pcyB"
      },
      "source": [
        "Luego, ordenamos los números en base a sus decenas(segundo dígito de derecha a izquierda)\r\n",
        "```\r\n",
        "    99046\r\n",
        "    82149\r\n",
        "    04853\r\n",
        "    93754\r\n",
        "    54963\r\n",
        "    80564\r\n",
        "    94171\r\n",
        "    70471\r\n",
        "    73895    \r\n",
        "    66496\r\n",
        "    \r\n",
        "```"
      ]
    },
    {
      "cell_type": "markdown",
      "metadata": {
        "id": "bMzDJB5Hpc0q"
      },
      "source": [
        "Ahora por sus centena...\r\n",
        "```\r\n",
        "    99046\r\n",
        "    82149\r\n",
        "    94171\r\n",
        "    70471\r\n",
        "    66496\r\n",
        "    80564\r\n",
        "    93754\r\n",
        "    04853\r\n",
        "    73895\r\n",
        "    54963\r\n",
        "```"
      ]
    },
    {
      "cell_type": "markdown",
      "metadata": {
        "id": "q4coq8NOrPpq"
      },
      "source": [
        "Por su milésima...\r\n",
        "```\r\n",
        "    70471\r\n",
        "    80564\r\n",
        "    82149\r\n",
        "    93754\r\n",
        "    73895\r\n",
        "    94171\r\n",
        "    04853\r\n",
        "    54963\r\n",
        "    66496\r\n",
        "    99046\r\n",
        "```"
      ]
    },
    {
      "cell_type": "markdown",
      "metadata": {
        "id": "QauqH1ZErnpY"
      },
      "source": [
        "Finalmente por el primer dígito\r\n",
        "```\r\n",
        "    04853\r\n",
        "    54963\r\n",
        "    66496\r\n",
        "    70471\r\n",
        "    73895\r\n",
        "    80564\r\n",
        "    82149\r\n",
        "    93754\r\n",
        "    94171  \r\n",
        "    99046\r\n",
        "```"
      ]
    }
  ]
}