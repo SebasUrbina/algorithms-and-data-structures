{
 "cells": [
  {
   "cell_type": "markdown",
   "metadata": {},
   "source": [
    "## Nombre: Sebastián Urbina"
   ]
  },
  {
   "cell_type": "markdown",
   "metadata": {
    "colab_type": "text",
    "id": "dHbObgY-P3ue"
   },
   "source": [
    "## Ejemplo de programación con invariantes: particionar un conjunto\n",
    "\n",
    "Supongamos que se tiene un conjunto de datos en una lista $a[0],\\ldots,a[n-1]$ y un valor de corte $p$, y se desea reordenar los datos dentro de la lista, de modo que queden a la izquierda todos los que son menores que $p$, y a la derecha los que son mayores. Por simplicidad, supondremos que en la lista no hay ningún valor igual a $p$. Este es un problema cuya utilidad veremos más adelante, cuando estudiemos el algoritmo de ordenación Quicksort.\n",
    "\n",
    "La solución clásica para este problema es la de **Hoare**, el autor de Quicksort, y se basa en ir identificando elementos menores o mayores que $p$, y moviéndolos hacia el extremo izquierdo o derecho de la lista, según corresponda. Esto corresponde al siguiente invariante:\n",
    "\n",
    "![particio-Hoare](https://github.com/ppoblete/AED/blob/master/particion-Hoare.png?raw=1)\n",
    "\n",
    "En este invariante, $i$ y $j$ son los primeros elementos desconocidos (esto es, aún no identificados como menores o mayores), viniendo desde cada extremo."
   ]
  },
  {
   "cell_type": "code",
   "execution_count": 2,
   "metadata": {
    "colab": {},
    "colab_type": "code",
    "id": "rbTpbRoLP3ue"
   },
   "outputs": [],
   "source": [
    "def particionHoare(a,p):\n",
    "    # retorna el punto de corte, el número de elementos <p y la lista particionada\n",
    "    n=len(a)\n",
    "    (i,j)=(0,n-1) #inicialmente todos los elementos son desconocidos\n",
    "    while i<=j: # aún quedan elementos desconocidos\n",
    "        if a[i]<p:\n",
    "            i+=1\n",
    "        elif a[j]>p:\n",
    "            j-=1\n",
    "        else:\n",
    "            (a[i],a[j])=(a[j],a[i]) # intercambio\n",
    "            i+=1\n",
    "            j-=1\n",
    "    return (p,i,a)   "
   ]
  },
  {
   "cell_type": "markdown",
   "metadata": {
    "colab_type": "text",
    "id": "4DMtjc1cP3uh"
   },
   "source": [
    "Para ayudarnos a verificar que la partición se realiza correctamente, definiremos una función auxiliar:"
   ]
  },
  {
   "cell_type": "code",
   "execution_count": 6,
   "metadata": {
    "colab": {},
    "colab_type": "code",
    "id": "m1do1M_LP3uh"
   },
   "outputs": [],
   "source": [
    "def verifica_particion(t): # imprime y chequea partición\n",
    "    (p,m,a)=t\n",
    "    # p=punto de corte, m=número de elementos <p, a=lista completa particionada\n",
    "    print(a[0:m],p,a[m:])\n",
    "    print(\"Partición OK\" if (m==0 or max(a[0:m])<p) and (m==len(a) or min(a[m:])>p)\n",
    "          else \"Error\")"
   ]
  },
  {
   "cell_type": "code",
   "execution_count": 7,
   "metadata": {
    "colab": {
     "base_uri": "https://localhost:8080/",
     "height": 52
    },
    "colab_type": "code",
    "id": "MPAS_k16P3uj",
    "outputId": "000b8e49-bf9e-470d-c3ee-1cda72ed7274"
   },
   "outputs": [
    {
     "name": "stdout",
     "output_type": "stream",
     "text": [
      "[36, 21, 34, 15, 56, 37, 65] 70 [77, 82, 98, 73]\n",
      "Partición OK\n"
     ]
    }
   ],
   "source": [
    "verifica_particion(particionHoare([73,21,34,98,56,37,77,65,82,15,36],70))"
   ]
  },
  {
   "cell_type": "code",
   "execution_count": 8,
   "metadata": {
    "colab": {
     "base_uri": "https://localhost:8080/",
     "height": 52
    },
    "colab_type": "code",
    "id": "eJG1QI3KP3um",
    "outputId": "340b995b-42ff-4b5f-ae3b-8825d459d6ad"
   },
   "outputs": [
    {
     "name": "stdout",
     "output_type": "stream",
     "text": [
      "[] 0 [73, 21, 34, 98, 56, 37, 77, 65, 82, 15, 36]\n",
      "Partición OK\n"
     ]
    }
   ],
   "source": [
    "verifica_particion(particionHoare([73,21,34,98,56,37,77,65,82,15,36],0))"
   ]
  },
  {
   "cell_type": "code",
   "execution_count": 9,
   "metadata": {
    "colab": {
     "base_uri": "https://localhost:8080/",
     "height": 52
    },
    "colab_type": "code",
    "id": "b5VDxRSqP3uu",
    "outputId": "6b3f9432-451f-4135-8acf-c663387749a6"
   },
   "outputs": [
    {
     "name": "stdout",
     "output_type": "stream",
     "text": [
      "[73, 21, 34, 98, 56, 37, 77, 65, 82, 15, 36] 100 []\n",
      "Partición OK\n"
     ]
    }
   ],
   "source": [
    "verifica_particion(particionHoare([73,21,34,98,56,37,77,65,82,15,36],100))"
   ]
  },
  {
   "cell_type": "markdown",
   "metadata": {
    "colab_type": "text",
    "id": "D1JRmq-aP3ux"
   },
   "source": [
    "Existe un algoritmo alternativo, que resulta en una codificación más sencilla. Este algoritmo, debido a **Lomuto**, se basa en el siguiente invariante:\n",
    "\n",
    "![particion-Lomuto](https://github.com/ppoblete/AED/blob/master/particion-Lomuto.png?raw=1)\n",
    "\n",
    "En este algoritmo, en cada iteración, si $a[j]<p$, se intercambian $a[i]$ con $a[j]$ y se incrementa $i$, porque ahora hay un elemento más en el grupo de los menores que $p$. Después de esto, se incrementa $j$, *incondicionalmente* (¿por qué es correcto hacer eso?).\n",
    "\n",
    "<blockquote>\n",
    "    \n",
    "### *Ejercicio*\n",
    "*Programe la partición de Lomuto en el recuadro siguiente y pruébela.* \n",
    "</blockquote>"
   ]
  },
  {
   "cell_type": "code",
   "execution_count": 24,
   "metadata": {
    "colab": {},
    "colab_type": "code",
    "id": "NFNnj3ItP3uy"
   },
   "outputs": [],
   "source": [
    "def particionLomuto(a,p):\n",
    "    # retorna el punto de corte, el número de elementos <p y la lista particionada\n",
    "    n = len(a)\n",
    "    (i,j) = (0,0) #inicialmente todos los elementos desconocidos\n",
    "    while j<n:\n",
    "        if a[j] < p:\n",
    "            (a[i],a[j]) = (a[j],a[i]) #intercambio de posiciones\n",
    "            i += 1 \n",
    "        j += 1 \n",
    "    return (p,i,a) "
   ]
  },
  {
   "cell_type": "code",
   "execution_count": 25,
   "metadata": {
    "colab": {},
    "colab_type": "code",
    "id": "ix2SQvHJP3u0"
   },
   "outputs": [
    {
     "name": "stdout",
     "output_type": "stream",
     "text": [
      "[21, 34, 37, 15, 36] 50 [73, 77, 65, 82, 98, 56]\n",
      "Partición OK\n"
     ]
    }
   ],
   "source": [
    "verifica_particion(particionLomuto([73,21,34,98,56,37,77,65,82,15,36],50))"
   ]
  },
  {
   "cell_type": "code",
   "execution_count": 26,
   "metadata": {
    "colab": {},
    "colab_type": "code",
    "id": "0sCKTRvXP3u3"
   },
   "outputs": [
    {
     "name": "stdout",
     "output_type": "stream",
     "text": [
      "[] 0 [73, 21, 34, 98, 56, 37, 77, 65, 82, 15, 36]\n",
      "Partición OK\n"
     ]
    }
   ],
   "source": [
    "verifica_particion(particionLomuto([73,21,34,98,56,37,77,65,82,15,36],0))"
   ]
  },
  {
   "cell_type": "code",
   "execution_count": 27,
   "metadata": {
    "colab": {},
    "colab_type": "code",
    "id": "R4ySvZRdP3u6"
   },
   "outputs": [
    {
     "name": "stdout",
     "output_type": "stream",
     "text": [
      "[73, 21, 34, 98, 56, 37, 77, 65, 82, 15, 36] 100 []\n",
      "Partición OK\n"
     ]
    }
   ],
   "source": [
    "verifica_particion(particionLomuto([73,21,34,98,56,37,77,65,82,15,36],100))"
   ]
  }
 ],
 "metadata": {
  "colab": {
   "name": "Ejercicio 2.ipynb",
   "provenance": []
  },
  "kernelspec": {
   "display_name": "Python 3",
   "language": "python",
   "name": "python3"
  },
  "language_info": {
   "codemirror_mode": {
    "name": "ipython",
    "version": 3
   },
   "file_extension": ".py",
   "mimetype": "text/x-python",
   "name": "python",
   "nbconvert_exporter": "python",
   "pygments_lexer": "ipython3",
   "version": "3.7.7"
  }
 },
 "nbformat": 4,
 "nbformat_minor": 4
}
