{
 "cells": [
  {
   "cell_type": "markdown",
   "metadata": {},
   "source": [
    "### Nombre: Sebastián Urbina"
   ]
  },
  {
   "cell_type": "markdown",
   "metadata": {
    "colab_type": "text",
    "id": "bYzngFZhMlRG"
   },
   "source": [
    "#### Nota: Este corresponde al ejercicio 1.4 del apunte\n",
    "### Ejercicio 1.4\n",
    "\n",
    "Se le llama \"Camel Case\" a la convención de escribir una frase sin espacios, pero marcando el inicio de cada palabra poniendo su primera letra en mayúscula. Por ejemplo, la frase\n",
    "```\n",
    "\"  Algoritmos y    estructuras de   datos   \"\n",
    "```\n",
    "transformada a Camel Case queda así:\n",
    "```\n",
    "\"AlgoritmosYEstructurasDeDatos\"\n",
    "```\n",
    "\n",
    "Escriba una función que transforme a Camel Case y pruébela:"
   ]
  },
  {
   "cell_type": "code",
   "execution_count": 121,
   "metadata": {
    "colab": {},
    "colab_type": "code",
    "id": "OQSeB6uMMlRG"
   },
   "outputs": [],
   "source": [
    "def CamelCase(s):\n",
    "    \"\"\"Retorna un string conteniendo la versión Camel Case del string s\"\"\"\n",
    "    assert type(s)== str, \"s debe ser un string\"\n",
    "    # escriba aquí su algoritmo\n",
    "    s_aux = \"\" #definimos un string auxiliar para concatenar el nuevo string\n",
    "    k = 0\n",
    "    while k < len(s):\n",
    "        if s[k] != \" \":\n",
    "            s_aux += s[k].upper() #si encontramos una palabra convertimos su primera letra a mayúscula y recorremos las siguientes letras convirtiendolas a minúsculas\n",
    "            k +=1 \n",
    "            while k < len(s) and s[k] != \" \":\n",
    "                s_aux += s[k].lower()  \n",
    "                k += 1\n",
    "        k += 1\n",
    "    return s_aux"
   ]
  },
  {
   "cell_type": "code",
   "execution_count": 120,
   "metadata": {
    "colab": {},
    "colab_type": "code",
    "id": "08xbQvFdMlRI"
   },
   "outputs": [
    {
     "name": "stdout",
     "output_type": "stream",
     "text": [
      "AlgoritmosYEstructurasDeDatos\n"
     ]
    }
   ],
   "source": [
    "print(CamelCase(\"    Algoritmos y    estructuras de   datos   \"))"
   ]
  }
 ],
 "metadata": {
  "colab": {
   "collapsed_sections": [],
   "name": "Copia de Ejercicio 3.ipynb",
   "provenance": []
  },
  "kernelspec": {
   "display_name": "Python 3",
   "language": "python",
   "name": "python3"
  },
  "language_info": {
   "codemirror_mode": {
    "name": "ipython",
    "version": 3
   },
   "file_extension": ".py",
   "mimetype": "text/x-python",
   "name": "python",
   "nbconvert_exporter": "python",
   "pygments_lexer": "ipython3",
   "version": "3.7.7"
  }
 },
 "nbformat": 4,
 "nbformat_minor": 4
}
