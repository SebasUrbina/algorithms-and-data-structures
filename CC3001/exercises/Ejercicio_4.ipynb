{
 "cells": [
  {
   "cell_type": "markdown",
   "metadata": {},
   "source": [
    "## Nombre: Sebastián Urbina"
   ]
  },
  {
   "cell_type": "markdown",
   "metadata": {
    "id": "4VIops-aV51-"
   },
   "source": [
    "# Ejercicio 4\n",
    "Este ejercicio corresponde a los ejercicios 2.1 y 2.3 del apunte."
   ]
  },
  {
   "cell_type": "markdown",
   "metadata": {
    "id": "D6LfPjOY64iH"
   },
   "source": [
    "### P1\n",
    "\n",
    "Resuelva la ecuación homogénea de las Torres de Hanoi:\n",
    "\n",
    "$$\n",
    "\\begin{align}\n",
    "a_n-3a_{n-1}+2a_{n-2}&=0 \\text{ para } n\\ge 2\\\\\n",
    "a_0=0\\\\\n",
    "a_1=1\n",
    "\\end{align}\n",
    "$$"
   ]
  },
  {
   "cell_type": "markdown",
   "metadata": {},
   "source": [
    "### Solución\n",
    "\n",
    "Notamos que estamos frente a una ecuación homogénea de coeficientes constantes de grado $k=2$. \n",
    "\n",
    "Para resolver este tipo de ecuaciones comenzamos escribiendo la ecuación característica de la recurrencia y buscamos sus raices:\n",
    "\n",
    "$$\n",
    "    \\lambda^{2}-3\\lambda+2 = 0\n",
    "$$\n",
    "\n",
    "$$\n",
    "    \\lambda_{1,2} = \\frac{3\\pm \\sqrt{9-8}}{2}\n",
    "$$\n",
    "$$\n",
    "    \\rightarrow\\lambda_{1} = 2 \\\\\n",
    "    \\rightarrow\\lambda_{2} = 1\n",
    "$$\n",
    "\n",
    "Luego, se sabe que la solución general es una combinación lineal de las soluciones de la ecuación característica:\n",
    "$$\n",
    "    a_{n} = A\\cdot2^{n} + B\\cdot 1^{n}\n",
    "$$\n",
    "\n",
    "Usamos las condiciones iniciales para encontrar A y B:\n",
    "$$\n",
    "    a_{0} = A\\cdot2^{0} + B = 0 \\rightarrow B = -A\n",
    "$$\n",
    "$$\n",
    "    \\rightarrow a_{n} = A(2^{n}-1)\n",
    "$$\n",
    "Luego,\n",
    "$$\n",
    "    a_{1} = A(2-1) = 1 \\rightarrow A = 1\n",
    "$$\n",
    "\n",
    "Finalmente la solución corresponde a:\n",
    "$$\n",
    "    a_{n} = 2^{n}-1\n",
    "$$\n",
    "Siendo la solución de $\\Theta(2^{n})$"
   ]
  },
  {
   "cell_type": "markdown",
   "metadata": {
    "id": "qjgpN8V564iL"
   },
   "source": [
    "### P2\n",
    "\n",
    "El método del ordenación **Stooge Sort** es un método recursivo que puede describirse de la siguiente manera:\n",
    "\n",
    "* Si el primer elemento es mayor que el último, los intercambiamos\n",
    "* Si hay 3 o más elementos en la lista, entonces:\n",
    "    * Ordenar los primeros 2/3 de la lista recursivamente\n",
    "    * Ordenar los últimos 2/3 de la lista, recursivamente, y\n",
    "    * Ordenar (¡de nuevo!) los primeros 2/3 de la lista.\n",
    "\n",
    "Escriba una ecuación que modele el tiempo de ejecución de Stooge Sort y resuélvala usando el Teorema Maestro."
   ]
  },
  {
   "cell_type": "markdown",
   "metadata": {},
   "source": [
    "### Solución\n",
    "\n",
    "Primero notamos que el costo de cambiar el primer con el último elemento siempre es 1.\n",
    "\n",
    "- Luego, en el primer ordenamiento recursivo, se ordena los primeros 2/3 numeros de la lista, cuya costo será de 2n/3. \n",
    "- De la misma forma, para el segundo ordenamiento de los 2/3 últimos números de la lista, el costo será de 2n/3. \n",
    "- Finalmente el último ordenamiento, de los primeros 2/3 números de la lista también tendrá un costo de 2n/3.\n",
    "\n",
    "Por lo que se tiene la siguiente ecuación de recurrencia, considerando todos los costos:\n",
    "$$\n",
    "    C(n) = C\\left(\\frac{2n}{3}\\right) + C\\left(\\frac{2n}{3}\\right) + C\\left(\\frac{2n}{3}\\right) + 1 \\\\\n",
    "    C(n) = 3\\cdot C\\left(\\frac{2n}{3}\\right) + 1\n",
    "$$"
   ]
  },
  {
   "cell_type": "markdown",
   "metadata": {},
   "source": [
    "Sabiendo que el Teorema Maestro tiene la siguiente forma:\n",
    "$$\n",
    "T(n)=pT(\\frac{n}{q})+Cn^r\n",
    "$$\n",
    "\n",
    "Podemos deducir inmediatamente que $p=3$, $q = \\frac{3}{2}$, $c=1$ y $r=0$. \n",
    "\n",
    "Utilizando los resultados conocidos del Teorema Maestro, se tiene que $p>q^{r} <=> 3>0$. Por lo que la solución tiene la siguiente forma:\n",
    "$$\n",
    "    T(n) = \\Theta(n^{log_{\\frac{3}{2}}3}) \\approx \\Theta(n^{2.71})\n",
    "$$"
   ]
  }
 ],
 "metadata": {
  "colab": {
   "name": "Ejercicio 3.ipynb",
   "provenance": []
  },
  "kernelspec": {
   "display_name": "Python 3",
   "language": "python",
   "name": "python3"
  },
  "language_info": {
   "codemirror_mode": {
    "name": "ipython",
    "version": 3
   },
   "file_extension": ".py",
   "mimetype": "text/x-python",
   "name": "python",
   "nbconvert_exporter": "python",
   "pygments_lexer": "ipython3",
   "version": "3.7.7"
  }
 },
 "nbformat": 4,
 "nbformat_minor": 4
}
