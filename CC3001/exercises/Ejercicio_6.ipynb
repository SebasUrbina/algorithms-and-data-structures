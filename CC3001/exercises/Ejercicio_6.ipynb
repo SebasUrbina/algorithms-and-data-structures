{
 "cells": [
  {
   "cell_type": "markdown",
   "metadata": {},
   "source": [
    "## Nombre: Sebastián Urbina"
   ]
  },
  {
   "cell_type": "markdown",
   "metadata": {
    "id": "BNmUUggtK551"
   },
   "source": [
    "# Ejercicio 6\n",
    "Este corresponde al ejercicio 4.2 del apunte."
   ]
  },
  {
   "cell_type": "markdown",
   "metadata": {
    "id": "0WW1OiVbcAB6"
   },
   "source": [
    "Escriba una función que pueda ser invocada como ``L.reversar()``, que al ejecutarse re-enlace los nodos de la lista de modo que queden en el orden opuesto al original, en tiempo lineal en el largo de la lista. Esto debe hacerse solo modificando punteros, sin crear nuevos nodos. Escriba a continuación la definición de la clase ``Lista`` incluyendo la función ``reversar``. Puede basarse en la clase Lista del apunte, sección \"Lista de enlace simple\", que está en la celda de arriba."
   ]
  },
  {
   "cell_type": "code",
   "execution_count": 44,
   "metadata": {
    "id": "IWYotum3b_5C"
   },
   "outputs": [],
   "source": [
    "class Nodo:\n",
    "    def __init__(self, info, sgte=None):\n",
    "        self.info=info\n",
    "        self.sgte=sgte\n",
    "        \n",
    "class Lista:\n",
    "    def __init__(self):\n",
    "        self.primero=None\n",
    "        \n",
    "    def insertar_al_inicio(self, info):\n",
    "        self.primero=Nodo(info, self.primero)\n",
    "    \n",
    "    def insertar_despues_de(self, p, info): # inserta después de nodo p\n",
    "        p.sgte=Nodo(info, p.sgte)\n",
    "    \n",
    "    def eliminar_al_inicio(self):\n",
    "        assert self.primero is not None\n",
    "        self.primero=self.primero.sgte\n",
    "    \n",
    "    def eliminar_sgte_de(self, p): # elimina el nodo siguiente de p\n",
    "        assert p.sgte is not None\n",
    "        p.sgte=p.sgte.sgte\n",
    "    \n",
    "    def k_esimo(self,k): # retorna k-esimo nodo, o None si fuera de rango\n",
    "        p=self.primero\n",
    "        j=1\n",
    "        while p is not None:\n",
    "            if j==k:\n",
    "                return p\n",
    "            p=p.sgte\n",
    "            j+=1\n",
    "        return None\n",
    "    \n",
    "    def imprimir(self):\n",
    "        p=self.primero\n",
    "        while p is not None:\n",
    "            print(p.info, end=\" \")\n",
    "            p=p.sgte\n",
    "        print()\n",
    "    \n",
    "    def reversar(self):\n",
    "        p = self.primero \n",
    "        ant = None\n",
    "        while p is not None: \n",
    "            sgte = p.sgte #actualizamos la orientacion del nodo actual\n",
    "            p.sgte = ant \n",
    "            ant = p #actualizamos los nodos que van recorriendo la lista\n",
    "            p = sgte\n",
    "        self.primero = ant #al final actualizamos la cabecera"
   ]
  },
  {
   "cell_type": "markdown",
   "metadata": {
    "id": "k9as4a5acAGH"
   },
   "source": [
    "Luego pruebe su función:"
   ]
  },
  {
   "cell_type": "code",
   "execution_count": 39,
   "metadata": {
    "id": "cbdpV6eIcAGl"
   },
   "outputs": [
    {
     "name": "stdout",
     "output_type": "stream",
     "text": [
      "42 65 13 44 \n",
      "44 13 65 42 \n"
     ]
    }
   ],
   "source": [
    "L=Lista()\n",
    "L.insertar_al_inicio(44)\n",
    "L.insertar_al_inicio(13)\n",
    "L.insertar_al_inicio(65)\n",
    "L.insertar_al_inicio(42)\n",
    "L.imprimir()\n",
    "L.reversar()\n",
    "L.imprimir()"
   ]
  },
  {
   "cell_type": "markdown",
   "metadata": {
    "id": "uKj_FxuucAGx"
   },
   "source": [
    "A continuación, escriba instrucciones para probar esta función para reversar una lista de largo 0 y una lista de largo 1."
   ]
  },
  {
   "cell_type": "code",
   "execution_count": 41,
   "metadata": {
    "id": "gaPvra9GcAG2"
   },
   "outputs": [
    {
     "name": "stdout",
     "output_type": "stream",
     "text": [
      "\n",
      "10 \n"
     ]
    }
   ],
   "source": [
    "L = Lista() #lista de largo 0\n",
    "L2 = Lista()\n",
    "L2.insertar_al_inicio(10) #lista de largo 1\n",
    "\n",
    "L.reversar()\n",
    "L2.reversar()\n",
    "\n",
    "L.imprimir() #imprimimos el reverso de la lista de largo 0(None)\n",
    "L2.imprimir() #imprimimos el reverso de la lista de largo 1(el valor original)"
   ]
  }
 ],
 "metadata": {
  "colab": {
   "name": "Ejercicio 6.ipynb",
   "provenance": []
  },
  "kernelspec": {
   "display_name": "Python 3",
   "language": "python",
   "name": "python3"
  },
  "language_info": {
   "codemirror_mode": {
    "name": "ipython",
    "version": 3
   },
   "file_extension": ".py",
   "mimetype": "text/x-python",
   "name": "python",
   "nbconvert_exporter": "python",
   "pygments_lexer": "ipython3",
   "version": "3.7.7"
  }
 },
 "nbformat": 4,
 "nbformat_minor": 4
}
