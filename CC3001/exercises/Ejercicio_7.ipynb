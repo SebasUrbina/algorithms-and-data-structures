{
 "cells": [
  {
   "cell_type": "markdown",
   "metadata": {},
   "source": [
    "## Nombre: Sebastián Urbina"
   ]
  },
  {
   "cell_type": "markdown",
   "metadata": {
    "id": "kTYEvxEKI8l7"
   },
   "source": [
    "# Ejercicio 7\n",
    "Este ejercicio corresponde al ejercicio 4.4 del apunte."
   ]
  },
  {
   "cell_type": "markdown",
   "metadata": {
    "id": "ZksCGPRucAda"
   },
   "source": [
    "Suponga que los campos ``info`` de los nodos externos contienen solo números y escriba una función que pueda invocarse como ``formula.evaluar()``, que al ser ejecutada entregue el valor numérico  de la fórmula representada por el árbol. Escriba a continuación la definición de la clase ``Arbol`` que incluya la nueva función. Puede basarse en la clase Arbol entregada en la celda anterior, que es la que está en el apunte."
   ]
  },
  {
   "cell_type": "code",
   "execution_count": 16,
   "metadata": {
    "id": "6QPIYuHmcAcZ"
   },
   "outputs": [],
   "source": [
    "class Nodoi:\n",
    "    def __init__(self, izq, info, der):\n",
    "        self.izq=izq\n",
    "        self.info=info\n",
    "        self.der=der\n",
    "    def postorden(self):\n",
    "        self.izq.postorden()   \n",
    "        self.der.postorden()\n",
    "        print(self.info, end=\" \")\n",
    "\n",
    "class Nodoe:\n",
    "    def __init__(self, info=\"\"):\n",
    "        self.info=info\n",
    "    def postorden(self):\n",
    "        print(self.info, end=\" \")\n",
    "\n",
    "class Arbol:\n",
    "    def __init__(self,raiz=Nodoe()):\n",
    "        self.raiz=raiz        \n",
    "    def postorden(self):\n",
    "        print(\"Postorden:\", end=\" \")\n",
    "        self.raiz.postorden()\n",
    "        print()\n",
    "        \n",
    "    def evaluar(self, nodo = None):\n",
    "        if nodo == None: #definimos la variable omitida como la raiz para poder recorrerlo recursivamente\n",
    "            nodo = self.raiz\n",
    "            \n",
    "        if str(nodo.info).isdigit() or nodo.info == \"\": #si es una hoja(digito/numero), retornamos el valor/ si es \"\" es porque es un arbol vacio y retornamos tal cual \"\"\n",
    "            return nodo.info\n",
    "\n",
    "        hoja_izq = self.evaluar(nodo.izq) #recorremos la rama izquierda recursivamente\n",
    "        hoja_der = self.evaluar(nodo.der) #recorremos la rama derecha recursivamente\n",
    "        \n",
    "        if nodo.info == \"+\": #evaluamos las operaciones\n",
    "            return hoja_izq + hoja_der\n",
    "        elif nodo.info == \"-\":\n",
    "            return hoja_izq - hoja_der\n",
    "        elif nodo.info == \"*\":\n",
    "            return hoja_izq * hoja_der\n",
    "        elif nodo.info == \"/\":\n",
    "            return hoja_izq / hoja_der"
   ]
  },
  {
   "cell_type": "markdown",
   "metadata": {
    "id": "SGztx_mVcAek"
   },
   "source": [
    "Pruébela a continuación:"
   ]
  },
  {
   "cell_type": "code",
   "execution_count": 17,
   "metadata": {
    "id": "Z57mr2yzcAek"
   },
   "outputs": [
    {
     "name": "stdout",
     "output_type": "stream",
     "text": [
      "35.0\n"
     ]
    }
   ],
   "source": [
    "formula= Arbol(\n",
    "            Nodoi(\n",
    "                Nodoi(Nodoe(5),\"+\",Nodoe(2)),\n",
    "                \"*\",\n",
    "                Nodoi(\n",
    "                    Nodoe(8),\n",
    "                    \"-\",\n",
    "                    Nodoi(Nodoe(9),\"/\",Nodoe(3))\n",
    "                )\n",
    "            )\n",
    "        )\n",
    "print(formula.evaluar())"
   ]
  }
 ],
 "metadata": {
  "colab": {
   "name": "Ejercicio 7.ipynb",
   "provenance": []
  },
  "kernelspec": {
   "display_name": "Python 3",
   "language": "python",
   "name": "python3"
  },
  "language_info": {
   "codemirror_mode": {
    "name": "ipython",
    "version": 3
   },
   "file_extension": ".py",
   "mimetype": "text/x-python",
   "name": "python",
   "nbconvert_exporter": "python",
   "pygments_lexer": "ipython3",
   "version": "3.7.7"
  }
 },
 "nbformat": 4,
 "nbformat_minor": 4
}
