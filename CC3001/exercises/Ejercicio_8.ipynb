{
  "nbformat": 4,
  "nbformat_minor": 0,
  "metadata": {
    "colab": {
      "name": "Ejercicio 8.ipynb",
      "provenance": [],
      "collapsed_sections": []
    },
    "kernelspec": {
      "name": "python3",
      "display_name": "Python 3"
    }
  },
  "cells": [
    {
      "cell_type": "markdown",
      "metadata": {
        "id": "7bEGVFOJVPde"
      },
      "source": [
        "#Nombre: Sebastián Urbina"
      ]
    },
    {
      "cell_type": "markdown",
      "metadata": {
        "id": "-onzSOvrsbmI"
      },
      "source": [
        "# Ejercicio 8\n",
        "Este ejercicio corresponde al ejercicio 6.1 del apunte."
      ]
    },
    {
      "cell_type": "markdown",
      "metadata": {
        "id": "uJcal-5KosKh"
      },
      "source": [
        "### Chequeando si un árbol es AVL\n",
        "\n",
        "Para determinar si un árbol es AVL, debemos calcular la altura de cada subárbol y comparar las alturas de todos los subárboles \"hermanos\" para ver si su diferencia excede o no 1. La siguiente implementación lo hace, pero veremos que de una manera ineficiente:"
      ]
    },
    {
      "cell_type": "code",
      "metadata": {
        "id": "RPEhGOHWosKi"
      },
      "source": [
        "class Nodoi:\n",
        "    def __init__(self, izq, info, der):\n",
        "        self.izq=izq\n",
        "        self.info=info\n",
        "        self.der=der\n",
        "    \n",
        "    def altura(self):\n",
        "        return 1+max(self.izq.altura(),self.der.altura())\n",
        "    \n",
        "    def es_AVL(self):\n",
        "        return abs(self.izq.altura()-self.der.altura())<=1 \\\n",
        "                and self.izq.es_AVL() and self.der.es_AVL()\n",
        "        \n",
        "    def __str__(self):\n",
        "        return \"(\"+self.izq.__str__()+str(self.info)+self.der.__str__()+\")\"\n",
        "\n",
        "class Nodoe:\n",
        "    def __init__(self):\n",
        "        pass\n",
        "\n",
        "    def altura(self):\n",
        "        return 0\n",
        "    \n",
        "    def es_AVL(self):\n",
        "        return True\n",
        "    \n",
        "    def __str__(self):\n",
        "        return\"☐\"\n",
        "\n",
        "class Arbol:\n",
        "    def __init__(self,raiz=Nodoe()):\n",
        "        self.raiz=raiz     \n",
        "    \n",
        "    def es_AVL(self):\n",
        "        return self.raiz.es_AVL()\n",
        "    \n",
        "    def __str__(self):        \n",
        "        return self.raiz.__str__()"
      ],
      "execution_count": 2,
      "outputs": []
    },
    {
      "cell_type": "code",
      "metadata": {
        "id": "XoDkJcUKosKl",
        "outputId": "a67abbcb-26d1-4816-a3a4-c336ab52e40b",
        "colab": {
          "base_uri": "https://localhost:8080/"
        }
      },
      "source": [
        "a1=Arbol(Nodoi(Nodoi(Nodoe(),1,Nodoe()),\n",
        "            2,\n",
        "            Nodoi(Nodoe(),3,Nodoi(Nodoe(),4,Nodoe()))))\n",
        "print(a1)\n",
        "print(a1.es_AVL())"
      ],
      "execution_count": 3,
      "outputs": [
        {
          "output_type": "stream",
          "text": [
            "((☐1☐)2(☐3(☐4☐)))\n",
            "True\n"
          ],
          "name": "stdout"
        }
      ]
    },
    {
      "cell_type": "code",
      "metadata": {
        "id": "p0owPt-5osKo",
        "outputId": "3186b676-586b-4107-b739-e17bfc214219",
        "colab": {
          "base_uri": "https://localhost:8080/"
        }
      },
      "source": [
        "a2=Arbol(Nodoi(Nodoi(Nodoe(),1,Nodoe()),\n",
        "            2,\n",
        "            Nodoi(Nodoe(),3,Nodoi(Nodoe(),4,Nodoi(Nodoe(),5,Nodoe())))))\n",
        "print(a2)\n",
        "print(a2.es_AVL())"
      ],
      "execution_count": 5,
      "outputs": [
        {
          "output_type": "stream",
          "text": [
            "((☐1☐)2(☐3(☐4(☐5☐))))\n",
            "False\n"
          ],
          "name": "stdout"
        }
      ]
    },
    {
      "cell_type": "markdown",
      "metadata": {
        "id": "p0gILQV5osKq"
      },
      "source": [
        "Lo anterior funciona, pero puede ser ineficiente. Por ejemplo, si el árbol fuera perfectamente balanceado, tendríamos que el costo de calcular la altura de un árbol de tamaño $n$ sería\n",
        "\n",
        "$$\n",
        "h(n)=1+2h\\left(\\frac{n}{2}\\right)\n",
        "$$\n",
        "\n",
        "que tiene solución $h(n)=\\Theta(n)$, lo cual es razonable, porque para calcular la altura se requiere recorrer todo el árbol. Pero determinar si el árbol es AVL demora un tiempo $a(n)$, donde\n",
        "\n",
        "$$\n",
        "a(n)= 2a\\left(\\frac{n}{2}\\right) + 2h\\left(\\frac{n}{2}\\right)\n",
        "$$\n",
        "\n",
        "y esto tiene solución $a(n)=\\Theta(n\\log{n})$ por el Teorema Maestro.\n",
        "\n",
        "Veremos a continuación que esto se puede hacer más eficientemente, en tiempo lineal."
      ]
    },
    {
      "cell_type": "markdown",
      "metadata": {
        "id": "nULGI0amosKq"
      },
      "source": [
        "---"
      ]
    },
    {
      "cell_type": "markdown",
      "metadata": {
        "id": "x7ZiN7yyosKr"
      },
      "source": [
        "### Ejercicio\n",
        "\n",
        "En este ejercicio usted debe modificar la implementación anterior para asegurar que cada nodo del árbol se visite solo una vez, asegurando de esta manera que el costo de determinar si un árbol es AVL sea $\\Theta(n)$.\n",
        "\n",
        "Para esto, usted debe fusionar las funciones ``altura`` y ``es_AVL``en una sola función ``altura_AVL``, que retorne una tupla $(h,a)$, donde $h$ es la altura y $a$ es un booleano que dice si el árbol es AVL. De esta manera, al invocar la función se tiene de una sola vez toda la información necesaria."
      ]
    },
    {
      "cell_type": "code",
      "metadata": {
        "id": "mOI6SOLNosKr"
      },
      "source": [
        "# Escriba aquí la nueva definición de nodos y árbol\n",
        "# Los nodos deben implementar la función altura_AVL\n",
        "# pero la clase Arbol debe seguir implementando una función es_AVL\n",
        "class Nodoi:\n",
        "    def __init__(self, izq, info, der):\n",
        "        self.izq=izq\n",
        "        self.info=info\n",
        "        self.der=der\n",
        "    \n",
        "    def altura_AVL(self):\n",
        "        h_izq, a = self.izq.altura_AVL()\n",
        "        h_der, a = self.der.altura_AVL()\n",
        "        h = 1 + max(h_izq, h_der)\n",
        "        a = abs(h_izq-h_der) <= 1\n",
        "        return h, a\n",
        "    \n",
        "    def __str__(self):\n",
        "        return \"(\"+self.izq.__str__()+str(self.info)+self.der.__str__()+\")\"\n",
        "\n",
        "class Nodoe:\n",
        "    def __init__(self):\n",
        "        pass\n",
        "\n",
        "    def altura_AVL(self):\n",
        "        return 0, None\n",
        "    \n",
        "    def __str__(self):\n",
        "        return\"☐\"\n",
        "\n",
        "class Arbol:\n",
        "    def __init__(self,raiz=Nodoe()):\n",
        "        self.raiz=raiz     \n",
        "    \n",
        "    def es_AVL(self):\n",
        "        return self.raiz.altura_AVL()\n",
        "    \n",
        "    def __str__(self):        \n",
        "        return self.raiz.__str__()"
      ],
      "execution_count": 153,
      "outputs": []
    },
    {
      "cell_type": "markdown",
      "metadata": {
        "id": "fkpfMuonosKu"
      },
      "source": [
        "A continuación, pruébela con los dos árboles utilizados anteriormente:"
      ]
    },
    {
      "cell_type": "code",
      "metadata": {
        "id": "UgTU2FVxosKu",
        "outputId": "79cb5a08-bda2-4705-8c11-0d1bbd71846e",
        "colab": {
          "base_uri": "https://localhost:8080/"
        }
      },
      "source": [
        "a1=Arbol(Nodoi(Nodoi(Nodoe(),1,Nodoe()),\n",
        "            2,\n",
        "            Nodoi(Nodoe(),3,Nodoi(Nodoe(),4,Nodoe()))))\n",
        "print(a1)\n",
        "print(a1.es_AVL())"
      ],
      "execution_count": 160,
      "outputs": [
        {
          "output_type": "stream",
          "text": [
            "((☐1☐)2(☐3(☐4☐)))\n",
            "(3, True)\n"
          ],
          "name": "stdout"
        }
      ]
    },
    {
      "cell_type": "code",
      "metadata": {
        "id": "KX5s-RoLosKw",
        "outputId": "b1d15fb1-38f5-4b08-f456-8d7b9891f23f",
        "colab": {
          "base_uri": "https://localhost:8080/"
        }
      },
      "source": [
        "a2=Arbol(Nodoi(Nodoi(Nodoe(),1,Nodoe()),\n",
        "            2,\n",
        "            Nodoi(Nodoe(),3,Nodoi(Nodoe(),4,Nodoi(Nodoe(),5,Nodoe())))))\n",
        "print(a2)\n",
        "print(a2.es_AVL())"
      ],
      "execution_count": 161,
      "outputs": [
        {
          "output_type": "stream",
          "text": [
            "((☐1☐)2(☐3(☐4(☐5☐))))\n",
            "(4, False)\n"
          ],
          "name": "stdout"
        }
      ]
    }
  ]
}