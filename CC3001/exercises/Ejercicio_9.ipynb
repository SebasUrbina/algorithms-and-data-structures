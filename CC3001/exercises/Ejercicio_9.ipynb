{
  "nbformat": 4,
  "nbformat_minor": 0,
  "metadata": {
    "colab": {
      "name": "Ejercicio 9.ipynb",
      "provenance": [],
      "collapsed_sections": []
    },
    "kernelspec": {
      "name": "python3",
      "display_name": "Python 3"
    }
  },
  "cells": [
    {
      "cell_type": "markdown",
      "metadata": {
        "id": "040Uknw5Fez_"
      },
      "source": [
        "### Nombre: Sebastián Urbina\n",
        "\n"
      ]
    },
    {
      "cell_type": "markdown",
      "metadata": {
        "id": "X-mNQkluccKd"
      },
      "source": [
        "# Ejercicio 9\n",
        "El ejercicio de esta semana corresponde al 6.2 del apunte."
      ]
    },
    {
      "cell_type": "markdown",
      "metadata": {
        "id": "T7ZZCLJ56QXB"
      },
      "source": [
        "### Ejercicio (Número de operaciones *split*)\n",
        "\n",
        "Supongamos que comenzamos con un árbol 2-3 vacío y a continuación insertamos $n$ llaves. El objetivo de este ejercicio es calcular cuántas operaciones *split* se pueden llegar a ejecutar a lo largo de este proceso, en el peor caso.\n",
        "\n",
        "Una manera de acotar este número de operaciones es ver que una inserción puede gatillar la ejecución de $O(\\log{n})$ operaciones *split*, y como son $n$ inserciones, el número total de operaciones *split* es $O(n\\log{n})$.\n",
        "\n",
        "Lo anterior es una cota superior, pero en realidad está muy sobredimensionada.\n",
        "\n",
        "Demuestre que el número total de operaciones *split* ejecutadas al insertar $n$ llaves comenzando con un árbol 2-3 vacío es $O(n)$ en el peor caso. Escriba su demostración en el siguiente recuadro.\n",
        "\n",
        "*Indicación*: Considere el impacto de un *split* sobre el número de nodos del árbol."
      ]
    },
    {
      "cell_type": "markdown",
      "metadata": {
        "id": "N4zB8P-Q6QXB"
      },
      "source": [
        "#### Demostración:\n",
        "\n"
      ]
    },
    {
      "cell_type": "markdown",
      "metadata": {
        "id": "2rBotbdjY2iB"
      },
      "source": [
        "En cada *split* se aumenta en 2 la cantidad total de nodos del árbol, pues si ocurre *overflow* el nodo se divide en 3, donde el valor del medio \"sube\" como raíz y los valores extremos se transforman en dos nodos nuevos. Por tanto aumenta siempre un total de 2 nodos en cada operación de *split*. \n",
        "\n",
        "Luego a medida que se insertan valores y se realizan *split* van a aumentar linealmente la cantidad de nodos en el arbol y por tanto la operación de insertar va a tener más posibilidades de caer en algún nodo, en consecuencia se reducirá la cantidad de *split*, ya que existirán más nodos que podrán ser convertidos a ternarios. Esto ocurrirá de tal forma que insertar un valor no necesariamente desencadenará un *split* inmediatamente y tenderá a realizarse un numero constante de *split* por cada valor agregado, por ende peor caso va a ser constante."
      ]
    },
    {
      "cell_type": "markdown",
      "metadata": {
        "id": "0jL2VLiG6QXB"
      },
      "source": [
        "---"
      ]
    }
  ]
}