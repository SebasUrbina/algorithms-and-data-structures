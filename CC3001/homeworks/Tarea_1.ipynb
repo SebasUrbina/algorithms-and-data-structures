{
 "cells": [
  {
   "cell_type": "markdown",
   "metadata": {},
   "source": [
    "## Nombre: Sebastián Urbina"
   ]
  },
  {
   "cell_type": "markdown",
   "metadata": {
    "colab_type": "text",
    "id": "_Q2SFIAPOylT"
   },
   "source": [
    "# CC3001 Primavera 2020 Tarea 1\n",
    "\n",
    "## Marcador de tenis\n",
    "\n",
    "### Profesores\n",
    "Sección 1 Benjamín Bustos •\n",
    "Sección 2 Jérémy Barbay •\n",
    "Sección 3 Patricio Poblete / Nelson Baloian\n",
    "\n",
    "![marcador-tenis](https://github.com/ppoblete/CC3001-2020-2-Tareas/blob/master/marcador-tenis.png?raw=1)"
   ]
  },
  {
   "cell_type": "markdown",
   "metadata": {
    "colab_type": "text",
    "id": "IAaBIWKlOylU"
   },
   "source": [
    "El objetivo de esta tarea es que usted implemente un sistema para que el árbitro de un partido de tenis vaya anotando quién gana cada pelota que se juega, y que a partir de esto se lleve actualizado el marcador del juego. Para simplificar, solo se pide llevar el marcador durante un juego, y no para el set ni para el match. También vamos a suponer que los jugadores son \"A\" y \"B\", con \"A\" al servicio. En la cuenta, la primera cifra corresponde a \"A\" y la segunda a \"B\".\n",
    "\n",
    "El marcador en un juego comienza \"0-0\". Luego, con cada pelota ganada va avanzando a \"15\", \"30\", \"40\", \"juego\", pero para ganar el juego hay que tener diferencia de dos pelotas ganadas respecto del oponente, de modo que si se llega a \"40-40\", el siguiente paso es \"ventaja\" y de ahí a \"juego\", si se gana la siguiente pelota, o se vuelve a \"iguales\", si se pierde.\n"
   ]
  },
  {
   "cell_type": "markdown",
   "metadata": {},
   "source": [
    "# Solución"
   ]
  },
  {
   "cell_type": "code",
   "execution_count": 13,
   "metadata": {},
   "outputs": [],
   "source": [
    "def marcador(jugadorA, jugadorB):\n",
    "    \"\"\"Muestra el marcador parcial de un juego de tenis\n",
    "    \n",
    "        Parámetros:\n",
    "        jugadorA -- string con el nombre del jugadorA\n",
    "        jugadorB -- string con el nombre del jugadorB\n",
    "    \"\"\"\n",
    "    assert type(jugadorA) is str, \"jugadorA debe ser un string\"\n",
    "    assert type(jugadorB) is str, \"jugadorB debe ser un string\"\n",
    "    \n",
    "    print(\"Juegan:\", jugadorA, \"vs.\", jugadorB,\"\\n\")\n",
    "    puntos = [\"0\",\"15\",\"30\",\"40\",\"juego\"] #puntos en caso de que alguien gane el juego directamente\n",
    "    puntos2 = [\"ventaja\",\"juego\"] #puntos en caso que lleguen igualados a 40-40\n",
    "    puntosA = puntos[0]\n",
    "    puntosB = puntos[0]\n",
    "    i = 0\n",
    "    j = 0\n",
    "    while puntosA != \"juego\" and puntosB != \"juego\":\n",
    "        print(\"\\t Marcador: \", puntosA, \"-\", puntosB)\n",
    "        if (puntosA == \"40\" and puntosB == \"40\") or (puntosA == \"ventaja\" and puntosB == \"ventaja\"):\n",
    "            i = -1\n",
    "            j = -1\n",
    "            x = input(\"Ingrese A o B: \").upper()\n",
    "            if x==\"A\":\n",
    "                puntosA = puntos2[i+1] #jugadorA toma ventaja\n",
    "                i+=1\n",
    "            elif x==\"B\":\n",
    "                puntosB = puntos2[j+1] #jugadorB toma ventaja\n",
    "                j+=1\n",
    "            else:\n",
    "                print(\"Error: jugador desconocidos:\", x)\n",
    "    \n",
    "        elif puntosA == \"ventaja\" or puntosB == \"ventaja\": \n",
    "            x = input(\"Ingrese A o B: \").upper()\n",
    "            if x==\"A\": \n",
    "                if puntosA == \"ventaja\": #Si anota jugadorA y tenía ventaja, gana el juego\n",
    "                    puntosA = puntos2[i+1]\n",
    "                else: #Si anota jugadorA y no tenía ventaja vuelven a 40-40\n",
    "                    puntosA = \"40\"\n",
    "                    puntosB = \"40\"     \n",
    "            elif x==\"B\":\n",
    "                if puntosB == \"ventaja\": #Si anota jugadorB y tenía ventaja, gana el juego\n",
    "                    puntosB = puntos2[j+1]\n",
    "                else: #Si anota jugadorB y no tenía ventaja vuelven a 40-40\n",
    "                    puntosA = \"40\"\n",
    "                    puntosB = \"40\"\n",
    "            else:\n",
    "                print(\"Error: jugador desconocidos:\", x)\n",
    "        else:\n",
    "            x = input(\"Ingrese A o B: \").upper()\n",
    "            if x == \"A\":\n",
    "                puntosA = puntos[i+1] #punto para el jugadorA\n",
    "                i+=1\n",
    "            elif x == \"B\":\n",
    "                puntosB = puntos[j+1] #punto para el jugadorB\n",
    "                j+=1\n",
    "            else:\n",
    "                print(\"Error: jugador desconocidos:\", x)\n",
    "    \n",
    "    if puntosA == \"juego\":\n",
    "        print(\"\\n\\t Ganador del juego: \", jugadorA)\n",
    "    else:\n",
    "        print(\"\\n\\t Ganador del juego: \", jugadorB)"
   ]
  },
  {
   "cell_type": "markdown",
   "metadata": {
    "colab_type": "text",
    "id": "uUdBcdbGOylf"
   },
   "source": [
    "Tomando como base este código, escriba a continuación un programa que implemente lo que se pide, y pruébelo con la siguiente secuencia de entrada. El programa debe terminar cuando un jugador gana el juego.\n",
    "\n",
    "```\n",
    "A A B A B B B A A B B B\n",
    "```\n",
    "\n",
    "Además, invente varias otras secuencias y muestre también sus resultados. "
   ]
  },
  {
   "cell_type": "markdown",
   "metadata": {},
   "source": [
    "### Algunos juegos:"
   ]
  },
  {
   "cell_type": "code",
   "execution_count": 8,
   "metadata": {},
   "outputs": [
    {
     "name": "stdout",
     "output_type": "stream",
     "text": [
      "Juegan: Nadal vs. Federer \n",
      "\n",
      "\t Marcador:  0 - 0\n"
     ]
    },
    {
     "name": "stdin",
     "output_type": "stream",
     "text": [
      "Ingrese A o B:  A\n"
     ]
    },
    {
     "name": "stdout",
     "output_type": "stream",
     "text": [
      "\t Marcador:  15 - 0\n"
     ]
    },
    {
     "name": "stdin",
     "output_type": "stream",
     "text": [
      "Ingrese A o B:  A\n"
     ]
    },
    {
     "name": "stdout",
     "output_type": "stream",
     "text": [
      "\t Marcador:  30 - 0\n"
     ]
    },
    {
     "name": "stdin",
     "output_type": "stream",
     "text": [
      "Ingrese A o B:  B\n"
     ]
    },
    {
     "name": "stdout",
     "output_type": "stream",
     "text": [
      "\t Marcador:  30 - 15\n"
     ]
    },
    {
     "name": "stdin",
     "output_type": "stream",
     "text": [
      "Ingrese A o B:  A\n"
     ]
    },
    {
     "name": "stdout",
     "output_type": "stream",
     "text": [
      "\t Marcador:  40 - 15\n"
     ]
    },
    {
     "name": "stdin",
     "output_type": "stream",
     "text": [
      "Ingrese A o B:  B\n"
     ]
    },
    {
     "name": "stdout",
     "output_type": "stream",
     "text": [
      "\t Marcador:  40 - 30\n"
     ]
    },
    {
     "name": "stdin",
     "output_type": "stream",
     "text": [
      "Ingrese A o B:  B\n"
     ]
    },
    {
     "name": "stdout",
     "output_type": "stream",
     "text": [
      "\t Marcador:  40 - 40\n"
     ]
    },
    {
     "name": "stdin",
     "output_type": "stream",
     "text": [
      "Ingrese A o B:  B\n"
     ]
    },
    {
     "name": "stdout",
     "output_type": "stream",
     "text": [
      "\t Marcador:  40 - ventaja\n"
     ]
    },
    {
     "name": "stdin",
     "output_type": "stream",
     "text": [
      "Ingrese A o B:  A\n"
     ]
    },
    {
     "name": "stdout",
     "output_type": "stream",
     "text": [
      "\t Marcador:  40 - 40\n"
     ]
    },
    {
     "name": "stdin",
     "output_type": "stream",
     "text": [
      "Ingrese A o B:  A\n"
     ]
    },
    {
     "name": "stdout",
     "output_type": "stream",
     "text": [
      "\t Marcador:  ventaja - 40\n"
     ]
    },
    {
     "name": "stdin",
     "output_type": "stream",
     "text": [
      "Ingrese A o B:  B\n"
     ]
    },
    {
     "name": "stdout",
     "output_type": "stream",
     "text": [
      "\t Marcador:  40 - 40\n"
     ]
    },
    {
     "name": "stdin",
     "output_type": "stream",
     "text": [
      "Ingrese A o B:  B\n"
     ]
    },
    {
     "name": "stdout",
     "output_type": "stream",
     "text": [
      "\t Marcador:  40 - ventaja\n"
     ]
    },
    {
     "name": "stdin",
     "output_type": "stream",
     "text": [
      "Ingrese A o B:  B\n"
     ]
    },
    {
     "name": "stdout",
     "output_type": "stream",
     "text": [
      "\n",
      "\t Ganador del juego:  Federer\n"
     ]
    }
   ],
   "source": [
    "# A A B A B B B A A B B B\n",
    "marcador(\"Nadal\",\"Federer\") "
   ]
  },
  {
   "cell_type": "code",
   "execution_count": 9,
   "metadata": {},
   "outputs": [
    {
     "name": "stdout",
     "output_type": "stream",
     "text": [
      "Juegan: Nadal vs. Federer \n",
      "\n",
      "\t Marcador:  0 - 0\n"
     ]
    },
    {
     "name": "stdin",
     "output_type": "stream",
     "text": [
      "Ingrese A o B:  A\n"
     ]
    },
    {
     "name": "stdout",
     "output_type": "stream",
     "text": [
      "\t Marcador:  15 - 0\n"
     ]
    },
    {
     "name": "stdin",
     "output_type": "stream",
     "text": [
      "Ingrese A o B:  A\n"
     ]
    },
    {
     "name": "stdout",
     "output_type": "stream",
     "text": [
      "\t Marcador:  30 - 0\n"
     ]
    },
    {
     "name": "stdin",
     "output_type": "stream",
     "text": [
      "Ingrese A o B:  A\n"
     ]
    },
    {
     "name": "stdout",
     "output_type": "stream",
     "text": [
      "\t Marcador:  40 - 0\n"
     ]
    },
    {
     "name": "stdin",
     "output_type": "stream",
     "text": [
      "Ingrese A o B:  A\n"
     ]
    },
    {
     "name": "stdout",
     "output_type": "stream",
     "text": [
      "\n",
      "\t Ganador del juego:  Nadal\n"
     ]
    }
   ],
   "source": [
    "#A A A A \n",
    "marcador(\"Nadal\",\"Federer\")"
   ]
  },
  {
   "cell_type": "code",
   "execution_count": 13,
   "metadata": {},
   "outputs": [
    {
     "name": "stdout",
     "output_type": "stream",
     "text": [
      "Juegan: Fderer vs. Djokovic \n",
      "\n",
      "\t Marcador:  0 - 0\n"
     ]
    },
    {
     "name": "stdin",
     "output_type": "stream",
     "text": [
      "Ingrese A o B:  B\n"
     ]
    },
    {
     "name": "stdout",
     "output_type": "stream",
     "text": [
      "\t Marcador:  0 - 15\n"
     ]
    },
    {
     "name": "stdin",
     "output_type": "stream",
     "text": [
      "Ingrese A o B:  B\n"
     ]
    },
    {
     "name": "stdout",
     "output_type": "stream",
     "text": [
      "\t Marcador:  0 - 30\n"
     ]
    },
    {
     "name": "stdin",
     "output_type": "stream",
     "text": [
      "Ingrese A o B:  A\n"
     ]
    },
    {
     "name": "stdout",
     "output_type": "stream",
     "text": [
      "\t Marcador:  15 - 30\n"
     ]
    },
    {
     "name": "stdin",
     "output_type": "stream",
     "text": [
      "Ingrese A o B:  B\n"
     ]
    },
    {
     "name": "stdout",
     "output_type": "stream",
     "text": [
      "\t Marcador:  15 - 40\n"
     ]
    },
    {
     "name": "stdin",
     "output_type": "stream",
     "text": [
      "Ingrese A o B:  A\n"
     ]
    },
    {
     "name": "stdout",
     "output_type": "stream",
     "text": [
      "\t Marcador:  30 - 40\n"
     ]
    },
    {
     "name": "stdin",
     "output_type": "stream",
     "text": [
      "Ingrese A o B:  B\n"
     ]
    },
    {
     "name": "stdout",
     "output_type": "stream",
     "text": [
      "\n",
      "\t Ganador del juego:  Djokovic\n"
     ]
    }
   ],
   "source": [
    "#B B A B A B\n",
    "marcador(\"Fderer\",\"Djokovic\")"
   ]
  },
  {
   "cell_type": "code",
   "execution_count": 12,
   "metadata": {},
   "outputs": [
    {
     "name": "stdout",
     "output_type": "stream",
     "text": [
      "Juegan: Djokovic vs. Nadal \n",
      "\n",
      "\t Marcador:  0 - 0\n"
     ]
    },
    {
     "name": "stdin",
     "output_type": "stream",
     "text": [
      "Ingrese A o B:  A\n"
     ]
    },
    {
     "name": "stdout",
     "output_type": "stream",
     "text": [
      "\t Marcador:  15 - 0\n"
     ]
    },
    {
     "name": "stdin",
     "output_type": "stream",
     "text": [
      "Ingrese A o B:  B\n"
     ]
    },
    {
     "name": "stdout",
     "output_type": "stream",
     "text": [
      "\t Marcador:  15 - 15\n"
     ]
    },
    {
     "name": "stdin",
     "output_type": "stream",
     "text": [
      "Ingrese A o B:  A\n"
     ]
    },
    {
     "name": "stdout",
     "output_type": "stream",
     "text": [
      "\t Marcador:  30 - 15\n"
     ]
    },
    {
     "name": "stdin",
     "output_type": "stream",
     "text": [
      "Ingrese A o B:  A\n"
     ]
    },
    {
     "name": "stdout",
     "output_type": "stream",
     "text": [
      "\t Marcador:  40 - 15\n"
     ]
    },
    {
     "name": "stdin",
     "output_type": "stream",
     "text": [
      "Ingrese A o B:  B\n"
     ]
    },
    {
     "name": "stdout",
     "output_type": "stream",
     "text": [
      "\t Marcador:  40 - 30\n"
     ]
    },
    {
     "name": "stdin",
     "output_type": "stream",
     "text": [
      "Ingrese A o B:  B\n"
     ]
    },
    {
     "name": "stdout",
     "output_type": "stream",
     "text": [
      "\t Marcador:  40 - 40\n"
     ]
    },
    {
     "name": "stdin",
     "output_type": "stream",
     "text": [
      "Ingrese A o B:  B\n"
     ]
    },
    {
     "name": "stdout",
     "output_type": "stream",
     "text": [
      "\t Marcador:  40 - ventaja\n"
     ]
    },
    {
     "name": "stdin",
     "output_type": "stream",
     "text": [
      "Ingrese A o B:  A\n"
     ]
    },
    {
     "name": "stdout",
     "output_type": "stream",
     "text": [
      "\t Marcador:  40 - 40\n"
     ]
    },
    {
     "name": "stdin",
     "output_type": "stream",
     "text": [
      "Ingrese A o B:  B\n"
     ]
    },
    {
     "name": "stdout",
     "output_type": "stream",
     "text": [
      "\t Marcador:  40 - ventaja\n"
     ]
    },
    {
     "name": "stdin",
     "output_type": "stream",
     "text": [
      "Ingrese A o B:  B\n"
     ]
    },
    {
     "name": "stdout",
     "output_type": "stream",
     "text": [
      "\n",
      "\t Ganador del juego:  Nadal\n"
     ]
    }
   ],
   "source": [
    "#A B A A B B B A B B\n",
    "marcador(\"Djokovic\",\"Nadal\")"
   ]
  }
 ],
 "metadata": {
  "colab": {
   "name": "Copy of CC3001 2020-2 Tarea 1.ipynb",
   "provenance": []
  },
  "kernelspec": {
   "display_name": "Python 3",
   "language": "python",
   "name": "python3"
  },
  "language_info": {
   "codemirror_mode": {
    "name": "ipython",
    "version": 3
   },
   "file_extension": ".py",
   "mimetype": "text/x-python",
   "name": "python",
   "nbconvert_exporter": "python",
   "pygments_lexer": "ipython3",
   "version": "3.7.7"
  }
 },
 "nbformat": 4,
 "nbformat_minor": 4
}
