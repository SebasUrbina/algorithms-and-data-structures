{
 "cells": [
  {
   "cell_type": "markdown",
   "metadata": {},
   "source": [
    "### Nombre: Sebastián Urbina"
   ]
  },
  {
   "cell_type": "markdown",
   "metadata": {
    "colab_type": "text",
    "id": "TuBrFz2U_Hth"
   },
   "source": [
    "# CC3001 Primavera 2020 Tarea 2\n",
    "\n",
    "## Shellsort\n",
    "\n",
    "### Profesores\n",
    "Sección 1 Benjamín Bustos •\n",
    "Sección 2 Jérémy Barbay •\n",
    "Sección 3 Patricio Poblete / Nelson Baloian\n"
   ]
  },
  {
   "cell_type": "markdown",
   "metadata": {
    "colab_type": "text",
    "id": "HiNcDvrX_Htj"
   },
   "source": [
    "El objetivo de esta tarea es que usted implemente el algoritmo de ordenación Shellsort.\n",
    "\n",
    "Para describir cómo funciona Shellsort definamos una \"$d$-tajada\" de un arreglo como una subsecuencia de sus elementos tal que que cada uno de ellos está a $d$ casilleros de distancia del siguiente. Por ejemplo, en el siguiente diagrama se muestran en distintos colores las posible $3$-tajadas de un arreglo dado:\n",
    "\n",
    "![shellsort1](https://github.com/ppoblete/CC3001-2020-2-Tareas/blob/master/shellsort1.png?raw=1)\n",
    "\n",
    "Noten que no todas las $d$-tajadas tienen necesariamente el mismo número de casilleros, y observen también que una \"$1$-tajada\" sería el arreglo completo.\n",
    "\n",
    "Una pasada de Shellsort consiste en elegir un valor de $d$ y luego aplicar ordenación por inserción a cada $d$-tajada por separado. El arreglo resultante se dice que está \"$d$-ordenado\". Por ejemplo, la siguiente figura muestra el arreglo anterior una vez que ha sido $3$-ordenado:\n",
    "\n",
    "![shellsort2](https://github.com/ppoblete/CC3001-2020-2-Tareas/blob/master/shellsort2.png?raw=1)\n",
    "\n",
    "Para ordenar el arreglo completo, Shellsort hace una secuencia de pasadas, con un conjunto decreciente de valores $d_k,d_{k-1}, \\ldots,d_1$, con $d_1=1$. Esto último asegura que el arreglo quede finalmente ordenado, pero las pasadas anteriores contribuyen a acelerar el proceso, porque hay un teorema (que no les pedimos demostrar) que dice que si un arreglo que ya estaba $i$-ordenado se $j$-ordena, el arreglo resultante sigue estando $i$-ordenado. Esto es, una pasada no echa a perder lo que han hecho las anteriores."
   ]
  },
  {
   "cell_type": "markdown",
   "metadata": {
    "colab_type": "text",
    "id": "uaJjQHQk_Htk"
   },
   "source": [
    "# Recuerdo de la ordenación por inserción\n",
    "\n",
    "Recuerde que la ordenación por inserción está implementada en el apunte de la manera siguiente:"
   ]
  },
  {
   "cell_type": "code",
   "execution_count": 4,
   "metadata": {
    "colab": {},
    "colab_type": "code",
    "id": "pzCxbxct_Htl"
   },
   "outputs": [],
   "source": [
    "def ordena_insercion(a):\n",
    "    \"\"\"Ordena el arreglo a por inserción\"\"\"\n",
    "    n=len(a)\n",
    "    for k in range(0,n):\n",
    "        insertar(a,k)\n",
    "        \n",
    "def insertar(a, k):\n",
    "    \"\"\"\n",
    "    Inserta a[k] entre los elementos anteriores\n",
    "    preservando el orden ascendente (versión 2)\n",
    "    \"\"\"\n",
    "    b=a[k] # b almacena transitoriamente al elemento a[k]\n",
    "    j=k # señala la posición del lugar \"vacío\"\n",
    "    while j>0 and b<a[j-1]:\n",
    "        a[j]=a[j-1]\n",
    "        j-=1\n",
    "    a[j]=b"
   ]
  },
  {
   "cell_type": "markdown",
   "metadata": {
    "colab_type": "text",
    "id": "-_6T3EYX_Htq"
   },
   "source": [
    "Probemos esto para asegurarnos que funcione bien:"
   ]
  },
  {
   "cell_type": "code",
   "execution_count": 5,
   "metadata": {
    "colab": {},
    "colab_type": "code",
    "id": "rgNh6gp1_Htq",
    "outputId": "590d8f0a-cfc7-48b6-d9c6-027baf0c43b0"
   },
   "outputs": [
    {
     "name": "stdout",
     "output_type": "stream",
     "text": [
      "[21 35 46 50 56 64 70 72 82 95]\n",
      "Arreglo ordenado OK.\n"
     ]
    }
   ],
   "source": [
    "import numpy as np\n",
    "\n",
    "def verifica_ordenado(a):\n",
    "    for i in range(0,len(a)-1):\n",
    "        assert a[i]<=a[i+1]\n",
    "    print(\"Arreglo ordenado OK.\")\n",
    "        \n",
    "A = np.array([46,35,95,21,82,70,72,56,64,50])\n",
    "ordena_insercion(A)\n",
    "print(A)\n",
    "verifica_ordenado(A)"
   ]
  },
  {
   "cell_type": "markdown",
   "metadata": {
    "colab_type": "text",
    "id": "-_xXYgvs_Htw"
   },
   "source": [
    "---\n",
    "# Lo que usted tiene que hacer:"
   ]
  },
  {
   "cell_type": "markdown",
   "metadata": {
    "colab_type": "text",
    "id": "Dc6Hu4Oh_Htw"
   },
   "source": [
    "## 1) Programar la ordenación de una $d$-tajada\n",
    "\n",
    "Modifique el código anterior para que en lugar de ordenar el arreglo completo, ordene solo la d-tajada que comienza en el casillero $i$:"
   ]
  },
  {
   "cell_type": "markdown",
   "metadata": {},
   "source": [
    "Primero modificamos la función insertar, para que ordene los valores cada d unidades"
   ]
  },
  {
   "cell_type": "code",
   "execution_count": 6,
   "metadata": {},
   "outputs": [],
   "source": [
    "def insertar2(a, k, d):\n",
    "    \"\"\"\n",
    "    Inserta a[k] entre los elementos anteriores ubicados a d unidades\n",
    "    preservando el orden ascendente (versión 2)\n",
    "    \"\"\"\n",
    "    b=a[k] # b almacena transitoriamente al elemento a[k]\n",
    "    j=k # señala la posición del lugar \"vacío\"\n",
    "    while j>0 and b<a[j-d] and j>=d:\n",
    "        a[j]=a[j-d] #vamos ordenando los valores que están separados d unidades\n",
    "        j-=d #nos movemos d espacios\n",
    "    a[j]=b #posicionamos la variable recientemente almacenada"
   ]
  },
  {
   "cell_type": "markdown",
   "metadata": {},
   "source": [
    "Luego la utilizamos en ordena_tajada_insercion"
   ]
  },
  {
   "cell_type": "code",
   "execution_count": 7,
   "metadata": {
    "colab": {},
    "colab_type": "code",
    "id": "hm9LSyGD_Hty"
   },
   "outputs": [],
   "source": [
    "def ordena_tajada_insercion(a,i,d):\n",
    "    \"\"\"Ordena la d-tajada que comienza en a[i] por inserción.\"\"\"\n",
    "    n = len(a)\n",
    "    for k in range(i, n, d): #recorremos los valores cada d unidades y vamos ordenandolos\n",
    "        insertar2(a,k,d) #ordenamos los valores de la d-tajada"
   ]
  },
  {
   "cell_type": "markdown",
   "metadata": {
    "colab_type": "text",
    "id": "i4BDEa33_Ht4"
   },
   "source": [
    "Pruebe aquí que su algoritmo $3$-ordena correctamente los elementos amarillos:"
   ]
  },
  {
   "cell_type": "code",
   "execution_count": 8,
   "metadata": {
    "colab": {},
    "colab_type": "code",
    "id": "jdj2YkxJ_Ht5"
   },
   "outputs": [
    {
     "name": "stdout",
     "output_type": "stream",
     "text": [
      "[46 35 64 21 82 70 72 56 95 50]\n"
     ]
    }
   ],
   "source": [
    "A = np.array([46,35,95,21,82,70,72,56,64,50])\n",
    "ordena_tajada_insercion(A,2,3)\n",
    "print(A)"
   ]
  },
  {
   "cell_type": "markdown",
   "metadata": {
    "colab_type": "text",
    "id": "fNC75Laq_Ht8"
   },
   "source": [
    "## 2) Programar una pasada de Shellsort\n",
    "\n",
    "A continuación programe una función que haga una pasada de Shellsort, dado un arreglo $a$ y el valor de $d$. Esta función debe aplicar ``ordena_tajada_inserción`` sobre cada una de las $d$-tajadas de $a$. "
   ]
  },
  {
   "cell_type": "code",
   "execution_count": 9,
   "metadata": {
    "colab": {},
    "colab_type": "code",
    "id": "2arAUXsp_Ht9"
   },
   "outputs": [],
   "source": [
    "def pasada_Shellsort(a,d):\n",
    "    \"\"\"Hace una pasada de Shellsort\"\"\"\n",
    "    for i in range(d): #todas las posibles d-tajadas\n",
    "        ordena_tajada_insercion(a,i,d)"
   ]
  },
  {
   "cell_type": "markdown",
   "metadata": {
    "colab_type": "text",
    "id": "7qGHLAAC_HuA"
   },
   "source": [
    "Luego pruebe esto y comprueba que da el mismo resultado que el ejemplo más arriba:"
   ]
  },
  {
   "cell_type": "code",
   "execution_count": 10,
   "metadata": {
    "colab": {},
    "colab_type": "code",
    "id": "CmQ2Wcn2_HuA"
   },
   "outputs": [
    {
     "name": "stdout",
     "output_type": "stream",
     "text": [
      "[21 35 64 46 56 70 50 82 95 72]\n"
     ]
    }
   ],
   "source": [
    "A = np.array([46,35,95,21,82,70,72,56,64,50])\n",
    "pasada_Shellsort(A,3)\n",
    "print(A)"
   ]
  },
  {
   "cell_type": "markdown",
   "metadata": {
    "colab_type": "text",
    "id": "AMroZLuc_HuD"
   },
   "source": [
    "## 3) Programar Shellsort\n",
    "\n",
    "Con esto ya estamos listos para programar Shellsort, haciendo una secuencia de pasadas, variando el valor de $d$ y terminando con $d=1$.Hay muchas formas conocidas de generar la secuencia de valores de $d$, con variados niveles de eficiencia. A continuación, programe Shellsort usando una secuencia decreciente de valores de la forma $d_k=2^k-1$, esto es: $\\ldots, 63, 31, 15, 7, 3, 1$. Se sabe que esta secuencia hace que Shellsort funcione en tiempo $\\Theta(n^{3/2})$:"
   ]
  },
  {
   "cell_type": "code",
   "execution_count": 11,
   "metadata": {
    "colab": {},
    "colab_type": "code",
    "id": "macdtYd8_HuE"
   },
   "outputs": [],
   "source": [
    "def Shellsort(a):\n",
    "    \"\"\"Ordena a usando Shell Sort, con la secuencia de valores …,63,31,15,7,3,1\"\"\"\n",
    "    if len(a) == 0: #caso borde\n",
    "        return a\n",
    "    k = int(np.log2(len(a))) #La máxima potencia a la cual obtener los valores de d para no salirnos del arreglo,\n",
    "    dk = [2**i-1 for i in range(k,0,-1)] #creamos la secuencia de valores\n",
    "    for d in dk:\n",
    "        pasada_Shellsort(a,d)"
   ]
  },
  {
   "cell_type": "markdown",
   "metadata": {
    "colab_type": "text",
    "id": "E9jipDWZ_HuG"
   },
   "source": [
    "Pruebe aquí su algoritmo de la manera siguiente:"
   ]
  },
  {
   "cell_type": "code",
   "execution_count": 12,
   "metadata": {
    "colab": {},
    "colab_type": "code",
    "id": "5fSJaYs9_HuH"
   },
   "outputs": [
    {
     "name": "stdout",
     "output_type": "stream",
     "text": [
      "[21 35 46 50 56 64 70 72 82 95]\n",
      "Arreglo ordenado OK.\n"
     ]
    }
   ],
   "source": [
    "A = np.array([46,35,95,21,82,70,72,56,64,50])\n",
    "Shellsort(A)\n",
    "print(A)\n",
    "verifica_ordenado(A)"
   ]
  },
  {
   "cell_type": "markdown",
   "metadata": {
    "colab_type": "text",
    "id": "Stky3Ts2_HuJ"
   },
   "source": [
    "En la siguiente celda agregue una prueba similar de ordenación de un arreglo de tamaño $1000$ generado al azar (sin imprimirlo):"
   ]
  },
  {
   "cell_type": "code",
   "execution_count": 13,
   "metadata": {
    "colab": {},
    "colab_type": "code",
    "id": "sS7LH8wn_HuK"
   },
   "outputs": [
    {
     "name": "stdout",
     "output_type": "stream",
     "text": [
      "Arreglo ordenado OK.\n"
     ]
    }
   ],
   "source": [
    "A_r = np.random.randint(1000,size = 1000) #arreglo de tamaño 1000, con valores al azar entre 0 y 1000\n",
    "Shellsort(A_r)\n",
    "verifica_ordenado(A_r)"
   ]
  },
  {
   "cell_type": "markdown",
   "metadata": {
    "colab_type": "text",
    "id": "X38mE4fQ_HuR"
   },
   "source": [
    "## 4) Probar con una secuencia diferente de valores $d_k$\n",
    "\n",
    "Finalmente, investigue respecto de otras maneras de generar la secuencia $d_k$, escoja una secuencia en particular, modifique su versión de Shellsort que la use y pruébela."
   ]
  },
  {
   "cell_type": "markdown",
   "metadata": {},
   "source": [
    "Ahora utilizaremos los incrementos de Shell, que comienzan con n/2, y se dividen en 2 cada vez hasta llegar a 1, con n el largo del arreglo. Utilizando estos incrementos, ShellSort en el peor caso funciona en tiempo $\\Theta(n^{2})$.\n",
    "\n",
    "Referencia: https://es.wikipedia.org/wiki/Ordenamiento_Shell"
   ]
  },
  {
   "cell_type": "code",
   "execution_count": 14,
   "metadata": {
    "colab": {},
    "colab_type": "code",
    "id": "ASBkDPca_HuS"
   },
   "outputs": [],
   "source": [
    "def Shellsort2(a):\n",
    "    \"\"\"Ordena a usando Shell Sort, con la secuencia de valores de shell, n/2, n/4, n/8,.., 1, con n largo del arreglo\"\"\"\n",
    "    d = len(a)//2\n",
    "    while d >= 1:\n",
    "        pasada_Shellsort(a,d)\n",
    "        d = d//2"
   ]
  },
  {
   "cell_type": "markdown",
   "metadata": {},
   "source": [
    "Hacemos una prueba"
   ]
  },
  {
   "cell_type": "code",
   "execution_count": 15,
   "metadata": {},
   "outputs": [
    {
     "name": "stdout",
     "output_type": "stream",
     "text": [
      "Arreglo ordenado OK.\n"
     ]
    }
   ],
   "source": [
    "A_r2 = np.random.randint(1000,size = 1000) #arreglo de tamaño 1000, con valores al azar entre 0 y 1000\n",
    "Shellsort2(A_r2)\n",
    "verifica_ordenado(A_r2)"
   ]
  }
 ],
 "metadata": {
  "colab": {
   "name": "Copy of CC3001 2020-2 Tarea 2.ipynb",
   "provenance": [],
   "toc_visible": true
  },
  "kernelspec": {
   "display_name": "Python 3",
   "language": "python",
   "name": "python3"
  },
  "language_info": {
   "codemirror_mode": {
    "name": "ipython",
    "version": 3
   },
   "file_extension": ".py",
   "mimetype": "text/x-python",
   "name": "python",
   "nbconvert_exporter": "python",
   "pygments_lexer": "ipython3",
   "version": "3.7.7"
  }
 },
 "nbformat": 4,
 "nbformat_minor": 4
}
