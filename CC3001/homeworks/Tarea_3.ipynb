{
 "cells": [
  {
   "cell_type": "markdown",
   "metadata": {},
   "source": [
    "## Nombre: Sebastián Urbina"
   ]
  },
  {
   "cell_type": "markdown",
   "metadata": {
    "id": "jRX7kOrTBd4u"
   },
   "source": [
    "# CC3001 Primavera 2020 Tarea 3\n",
    "## Multiplicación de Polinomios\n",
    "## Profesores\n",
    "Sección 1 Benjamin Bustos • Sección 2 Jérémy Barbay • Sección 3 Patricio Poblete / Nelson Baloian"
   ]
  },
  {
   "cell_type": "markdown",
   "metadata": {
    "id": "8Kgcb5OWXUOf"
   },
   "source": [
    "El objetivo de esta tarea es implementar y comparar los dos algoritmos de multiplicación de polinomios que aparecen en el apunte: el algoritmo por fuerza bruta y el que utiliza la técnica de diseño \"Dividir para Reinar\", que de acuerdo al análisis realizado toma tiempo $\\Theta(n^{1.59})$. Para esta tarea, los coeficientes a considerar son de tipo entero."
   ]
  },
  {
   "cell_type": "markdown",
   "metadata": {
    "id": "ebFYdxEgXUOh"
   },
   "source": [
    "## Algoritmo cuadrático"
   ]
  },
  {
   "cell_type": "markdown",
   "metadata": {
    "id": "oaVoNSFeXUOn"
   },
   "source": [
    "La función ``multpol`` implementa el algoritmo de multiplicación de polinomios por fuerza bruta, que toma tiempo $\\Theta(n^2)$."
   ]
  },
  {
   "cell_type": "code",
   "execution_count": 1354,
   "metadata": {
    "id": "UoZwKb5xBYDF"
   },
   "outputs": [],
   "source": [
    "import numpy as np\n",
    "\n",
    "def multpol(a, b):\n",
    "    '''\n",
    "    multpol: array array -> array\n",
    "    Recibe dos arreglos, a y b, que contienen los coeficientes de los polinomios\n",
    "    (valores enteros), y devuelve un arreglo con los coeficientes resultantes de\n",
    "    multiplicar ambos polinomios. Ambos arreglos deben tener el mismo largo\n",
    "    Ejemplo: \n",
    "    Sea pol1 = [-1, 2, -3, 4] el arreglo que representa al polinomio -1 + 2x -3x**2 + 4x**3\n",
    "    Sea pol2 = [0, 0, 0, 2] el arreglo que representa al polinomio 2x**3\n",
    "    multpol(pol1, pol2) devuelve el arreglo [0, 0, 0, -2, 4, -6, 8], que corresponde al\n",
    "    polinomio -2x**3 + 4x**4 - 6x**5 + 8x**6\n",
    "    '''\n",
    "    n = len(a)\n",
    "    assert len(b) == n\n",
    "    c = np.zeros(2 * n - 1, dtype = int)\n",
    "    for i in range(0, n):\n",
    "        for j in range(0, n):\n",
    "            c[i + j] += a[i] * b[j]\n",
    "    return c\n",
    "\n",
    "# Test\n",
    "pol1 = np.array([-1, 2, -3, 4], dtype = int)\n",
    "pol2 = np.array([0, 0, 0, 2], dtype = int)\n",
    "resultado = np.array([0, 0, 0, -2, 4, -6, 8], dtype = int)\n",
    "assert np.array_equal(multpol(pol1, pol2), resultado)"
   ]
  },
  {
   "cell_type": "code",
   "execution_count": 1355,
   "metadata": {
    "colab": {
     "base_uri": "https://localhost:8080/",
     "height": 52
    },
    "id": "nPtSGXDrBxFH",
    "outputId": "453e08a4-4407-4eac-f036-fe8d2118c568"
   },
   "outputs": [
    {
     "data": {
      "text/plain": [
       "array([  2,   1,  -3,  18,  -6,   3, -19,  19,  23,  -9,  19,   0,  -2,\n",
       "         8,   2])"
      ]
     },
     "execution_count": 1355,
     "metadata": {},
     "output_type": "execute_result"
    }
   ],
   "source": [
    "multpol(np.array([2, 3, -6, 1, 2, 0, 4, 1], dtype = int), np.array([1, -1, 3, 1, 4, -2, 0, 2], dtype = int))"
   ]
  },
  {
   "cell_type": "markdown",
   "metadata": {
    "id": "mBHj75AKXUOw"
   },
   "source": [
    "## Algoritmo basado en Dividir para Reinar"
   ]
  },
  {
   "cell_type": "markdown",
   "metadata": {
    "id": "YPAIVErGXUOw"
   },
   "source": [
    "A continuación, implemente el algoritmo de multiplicación de polinomios que utiliza tres multiplicaciones recursivas, que toma tiempo $\\Theta(n^{1.59})$. Para implementar este algoritmo, puede suponer que el tamaño de los arreglos es siempre una potencia de 2."
   ]
  },
  {
   "cell_type": "code",
   "execution_count": 1420,
   "metadata": {
    "id": "3CsXZmu3XUOx"
   },
   "outputs": [],
   "source": [
    "import numpy as np\n",
    "\n",
    "def multpol2(a, b):\n",
    "    '''\n",
    "    multpol2: array array -> array\n",
    "    Recibe dos arreglos, a y b, que contienen los coeficientes de los polinomios\n",
    "    (valores enteros), y devuelve un arreglo con los coeficientes resultantes de\n",
    "    multiplicar ambos polinomios. Utiliza el algoritmo recursivo basado en\n",
    "    Dividir para Reinar visto en catedra, que realiza tres llamados recursivos.\n",
    "    Ambos arreglos deben tener el mismo largo\n",
    "    Ejemplo: \n",
    "    Sea pol1 = [2, 3, -6, 1, 2, 0, 4, 1] el arreglo que representa al\n",
    "    polinomio 2 + 3x - 6x**2 + x**3 + 2x**4 + 4x**6 + x**7\n",
    "    Sea pol2 = [1, -1, 3, 1, 4, -2, 0, 2] el arreglo que representa al\n",
    "    polinomio 1 - x + 3x**2 + x**3 + 4x**4 - 2x**5 + 2x**7\n",
    "    multpol(pol1, pol2) devuelve el arreglo\n",
    "    [2, 1, -3, 18, -6, 3, -19, 19, 23, -9, 19, 0, -2, 8, 2], que corresponde al\n",
    "    polinomio 2 + x - 3x**2 + 18x**3 - 6x**4 + 3x**5 - 19x**6 + 19x**7 + 23x**8 - \n",
    "    9x**9 + 19x**10 - 2x**12 + 8x*13 + 2x**14 \n",
    "    '''\n",
    "    # Implemente su algoritmo aqui\n",
    "    n = len(a)\n",
    "    assert len(b) == n #nos aseguramos que tengan las mismas dimensiones\n",
    "    assert n>0 #el arreglo debe contener al menos un elemento\n",
    "    c = np.zeros(2 * n - 1, dtype = int) #arreglo vacío para ir guardando los resultados\n",
    "    if n == 1:\n",
    "        return  a[0]*b[0] #caso base\n",
    "    A1 = a[0:n//2] #subdividimos el problema en polinomios mas pequeños de grados n/2\n",
    "    A2 = a[n//2:n]\n",
    "    B1 = b[0:n//2]\n",
    "    B2 = b[n//2:n]\n",
    "    D = multpol2(A1+A2,B1+B2) #calculamos las multiplicaciones recursivas\n",
    "    E = multpol2(A1,B1)\n",
    "    F = multpol2(A2,B2)\n",
    "    c[0:n-1] = E #guardamos las multiplicaciones\n",
    "    c[n:2*n-1] = F\n",
    "    c[n//2:3*(n//2)-1] += D-E-F\n",
    "    \n",
    "    return c\n",
    "\n",
    "# # Tests\n",
    "pol1 = np.array([-1, 2, -3, 4], dtype = int)\n",
    "pol2 = np.array([0, 0, 0, 2], dtype = int)\n",
    "resultado = np.array([0, 0, 0, -2, 4, -6, 8], dtype = int)\n",
    "assert np.array_equal(multpol2(pol1, pol2), resultado)\n",
    "pol1 = np.array([2,3,-6,1,2,0,4,1], dtype = int)\n",
    "pol2 = np.array([1,-1,3,1,4,-2,0,2], dtype = int)\n",
    "resultado = np.array([2, 1, -3, 18, -6, 3, -19, 19, 23, -9, 19, 0, -2, 8, 2], dtype = int)\n",
    "assert np.array_equal(multpol2(pol1, pol2), resultado)"
   ]
  },
  {
   "cell_type": "markdown",
   "metadata": {
    "id": "c13tCF1QB530"
   },
   "source": [
    "Ahora, muestre ejemplos de uso de su función ``multpol2``, mostrando el resultado para al menos cuatro ejemplos distintos de multiplicaciones de polinomios, con grados de polinomios distintos para cada ejemplo."
   ]
  },
  {
   "cell_type": "code",
   "execution_count": 1394,
   "metadata": {
    "id": "oLyJICGcB1kt"
   },
   "outputs": [
    {
     "name": "stdout",
     "output_type": "stream",
     "text": [
      "\n",
      "Ejemplo 1:\n",
      " n = 8\n",
      "\n",
      "[-11 -46  29  -6 -42  -9  -7  93] X [-14 -31  26  39  88  69  99 -57] \n",
      "\n",
      "Resultado =  [  154   985   734 -2440 -1234 -2404 -2660 -5411 -2033 -3792 -1426  9204\n",
      "  6237  9606 -5301]\n",
      "\n",
      "Ejemplo 2:\n",
      " n = 16\n",
      "\n",
      "[-29 -10 -35 -43  91 -65  69  90 -89 -56 -41 -49  68 -72 -77 -83] X [-16  20 -35 -52  34  33  41  83  81  11 -93 -65  67  69   7  11] \n",
      "\n",
      "Resultado =  [   464   -420   1375   1846  -1557   4888  -6062  -7951   1250 -12626\n",
      "  -1914  15724   8517  10274  -3493 -11436  -6491 -15839  -3165  15239\n",
      "    565 -16160 -23301 -12777  11200  11798  -4795 -10630  -7058  -1428\n",
      "   -913]\n",
      "\n",
      "Ejemplo 3:\n",
      " n = 32\n",
      "\n",
      "[ -3  48 -53 -15  -4  63 -46  63  45 -81 -18  45  88  86  94 -82  34  33\n",
      "  57  14  93  26  36 -36 -95 -59  -7  -3  26  45 -84 -40] X [ 97 -15 -88 -34  30  43  12 -80  26 -69 -13  55 -50  90 -28 -80 -91  11\n",
      "  86   9   1  58 -54  50  26   1  63 -77 -29  67  92  74] \n",
      "\n",
      "Resultado =  [  -291   4701  -5597  -4782   2779  10604  -4107   -520      7  -5279\n",
      "  -8803  13699  15076   4139  -9231 -25271   1824   3244  31180  -5894\n",
      " -14885 -11160  -3017 -25721   2912  18687   9952 -11689 -24447 -14438\n",
      "  -6969  30436    852  10033   2741 -12735  -8003  23606   7663  14327\n",
      "  13644    398  18711  13647    807   -120  16810   7389  -6292   1483\n",
      "   7448  10201  14820  -5796 -17424 -13131 -14762   3591  10701   1596\n",
      "  -7078  -9896  -2960]\n",
      "\n",
      "Ejemplo 4:\n",
      " n = 64\n",
      "\n",
      "[  73  -48  -65   82   74  -54  -11   20  -89  -61  -95  -52  -43   -2\n",
      "  -66  -57  -87  -83  -80  -77  -13   27  -62    4  -94  -15    0   71\n",
      "   74   26   49 -100   28   80  -56   24  -21  -53   57  -69  -98   27\n",
      "  -22   74  -61  -30  -10    5   18 -100   12   94  -41    3  -22   81\n",
      "   -1  -16   80  -84   89   61   53  -35] X [ 43 -90 -40  70 -28  25 -71 -26 -83 -67 -97  52  27   3 -80  15 -45 -18\n",
      "  28  -5  98  94  15 -88  57  43 -74  48 -48  69 -92 -38  52  44  87 -80\n",
      "  48 -18  62  49   8  10  57 -26  42  16  58 -12 -39  92 -58 -90 -85  40\n",
      "  94 -43   3 -17  46  80  10 -87 -21  67] \n",
      "\n",
      "Resultado =  [  3139  -8634  -1395  16406  -7002 -13643   2604   6779  -9185   2140\n",
      "   -533   9600   1682 -15324  -3766  21402  19869   7653  32052  16003\n",
      "  21101  11072   2951  13238  54928  41127   8624  12214  19593 -20913\n",
      " -15212  -1267  35341  15417 -29464 -26674  -8778 -29165   6372 -22198\n",
      "   4735  18470 -17982 -24337 -27758  21002   7167   1811  12273  -1213\n",
      "  10111 -44118 -28086  17847  14595 -38452 -34961  -7131 -17991  -8527\n",
      " -13939 -19981  18715   6908 -50037 -14826  14839  23709 -29445 -10132\n",
      "  -7003  -2606  21842 -32727 -13833  29981  -6284  -2779 -51796  12411\n",
      "   1790 -19260  28857 -26730  -2972  -2188 -10128  37826 -35696  19056\n",
      " -14046   2893  35638 -22399   2660  -2314  20752  16934 -24168  -2882\n",
      "  29248  15565  -1381 -31656  21813   -177   4265   2163 -22713  13344\n",
      "   9640   4249 -32193 -11339  26687   4488  -1340  -7611   5641   1389\n",
      "  13359   2621 -15074   -279   6019   4286  -2345]\n"
     ]
    }
   ],
   "source": [
    "# Implemente sus ejemplos de uso aquí\n",
    "ks = [3,4,5,6] #potencias a testear\n",
    "for i,k in enumerate(ks):\n",
    "    n = 2**k \n",
    "    pol1 = np.random.randint(-100,100,size = n) #generamos polinomios aleatorios\n",
    "    pol2 = np.random.randint(-100,100,size = n)\n",
    "    print(\"\\nEjemplo {}:\\n n = {}\\n\".format(i+1,n))\n",
    "    print(pol1,\"X\",pol2,\"\\n\")\n",
    "    print(\"Resultado = \",multpol2(pol1,pol2))"
   ]
  },
  {
   "cell_type": "markdown",
   "metadata": {
    "id": "xYZGIRf-Dv9W"
   },
   "source": [
    "# Comparación de ambos algoritmos para $n$ grande"
   ]
  },
  {
   "cell_type": "markdown",
   "metadata": {
    "id": "CFw6b1o_XUO3"
   },
   "source": [
    "La función ``%timeit`` de Python permite medir el tiempo tomado para la ejecución de una función. Por ejemplo, el siguiente código genera dos polinomios representados por arreglos aleatorios de tamaño $n$, y luego calcula cuánto demora en ejecutarse la función ``multpol`` para multiplicar ambos polinomios."
   ]
  },
  {
   "cell_type": "markdown",
   "metadata": {
    "id": "wsMOkjN9XUO7"
   },
   "source": [
    "Implemente ahora un experimento para descubrir a partir de qué valor de $n$ la función ``multpol2`` es más eficiente que la función ``multpol``. Utilice valores de $n$ que sean potencias de 2 para realizar este experimento. Pruebe con al menos diez valores distintos de $n$."
   ]
  },
  {
   "cell_type": "markdown",
   "metadata": {},
   "source": [
    "## Solución\n",
    "\n",
    "Crearemos un script que vaya guardando los tiempos de ejecución de ``timeit``, para luego crear un gráfico y analizar sobre cuál $n$ un algoritmo se vuelve más eficiente que otro.\n",
    "\n",
    "Utilicé como referencia: https://stackoverflow.com/questions/33943362/timeit-equivalent-in-code"
   ]
  },
  {
   "cell_type": "code",
   "execution_count": 1423,
   "metadata": {
    "colab": {
     "base_uri": "https://localhost:8080/",
     "height": 52
    },
    "id": "umI-Kj97D123",
    "outputId": "ae8f9bc2-638a-4de0-c5c2-437f8821232b"
   },
   "outputs": [
    {
     "name": "stdout",
     "output_type": "stream",
     "text": [
      "5.03 µs ± 447 ns per loop (mean ± std. dev. of 7 runs, 10 loops each)\n",
      "29.9 µs ± 7.41 µs per loop (mean ± std. dev. of 7 runs, 10 loops each)\n",
      "28.8 µs ± 3.82 µs per loop (mean ± std. dev. of 7 runs, 10 loops each)\n",
      "126 µs ± 25.6 µs per loop (mean ± std. dev. of 7 runs, 10 loops each)\n",
      "109 µs ± 18.8 µs per loop (mean ± std. dev. of 7 runs, 10 loops each)\n",
      "269 µs ± 87.6 µs per loop (mean ± std. dev. of 7 runs, 10 loops each)\n",
      "201 µs ± 47.2 µs per loop (mean ± std. dev. of 7 runs, 10 loops each)\n",
      "515 µs ± 50.8 µs per loop (mean ± std. dev. of 7 runs, 10 loops each)\n",
      "717 µs ± 48.2 µs per loop (mean ± std. dev. of 7 runs, 10 loops each)\n",
      "2.6 ms ± 1.1 ms per loop (mean ± std. dev. of 7 runs, 10 loops each)\n",
      "2.82 ms ± 168 µs per loop (mean ± std. dev. of 7 runs, 10 loops each)\n",
      "5.26 ms ± 741 µs per loop (mean ± std. dev. of 7 runs, 10 loops each)\n",
      "12.5 ms ± 1.85 ms per loop (mean ± std. dev. of 7 runs, 10 loops each)\n",
      "16 ms ± 569 µs per loop (mean ± std. dev. of 7 runs, 10 loops each)\n",
      "46 ms ± 2.53 ms per loop (mean ± std. dev. of 7 runs, 10 loops each)\n",
      "41 ms ± 2.41 ms per loop (mean ± std. dev. of 7 runs, 10 loops each)\n",
      "187 ms ± 10.2 ms per loop (mean ± std. dev. of 7 runs, 10 loops each)\n",
      "135 ms ± 6.16 ms per loop (mean ± std. dev. of 7 runs, 10 loops each)\n",
      "748 ms ± 25.1 ms per loop (mean ± std. dev. of 7 runs, 10 loops each)\n",
      "386 ms ± 12.1 ms per loop (mean ± std. dev. of 7 runs, 10 loops each)\n"
     ]
    },
    {
     "data": {
      "image/png": "[encoded data removed]",
      "text/plain": [
       "<Figure size 720x432 with 1 Axes>"
      ]
     },
     "metadata": {
      "needs_background": "light"
     },
     "output_type": "display_data"
    }
   ],
   "source": [
    "import matplotlib.pyplot as plt\n",
    "n_valores = 10 #Cantidad de valores distintos\n",
    "ns = [2**i for i in range(1,n_valores+1)] #grados de los 10 polinomios a testear\n",
    "r1 = []\n",
    "r2 = []\n",
    "for n in ns:\n",
    "    a = np.random.randint(-10, 10, n)\n",
    "    b = np.random.randint(-10, 10, n)\n",
    "    t1 = %timeit -n 10 -o multpol(a,b) #seteamos el timeint en 10 bucles por cada ejecucion(para que no demore tanto)\n",
    "    t2 = %timeit -n 10 -o multpol2(a,b) \n",
    "    r1.append(t1) #guardamos los objetos timeit de multpol\n",
    "    r2.append(t2) #guardamos los objetos timeit de multpol2\n",
    "\n",
    "res1 = []\n",
    "res2 = []\n",
    "for i in range(len(r1)):\n",
    "    mean1 = np.mean(r1[i].all_runs) #Calculamos el promedio de todas las ejecuciones para cada multiplicación de polinomios\n",
    "    mean2 = np.mean(r2[i].all_runs)\n",
    "    res1.append(mean1) #guardamos\n",
    "    res2.append(mean2) \n",
    "    \n",
    "#Graficamos los resultados de tiempo de ejecucion\n",
    "plt.figure(figsize=(10,6)) \n",
    "plt.plot(res1,label=\"Multpol\")\n",
    "plt.plot(res2,label=\"Multpol2\")\n",
    "plt.xlabel(\"log de Grado del polinomio\")\n",
    "plt.ylabel(\"Tiempo de ejecución[seg]\")\n",
    "plt.legend()\n",
    "plt.show()"
   ]
  },
  {
   "cell_type": "markdown",
   "metadata": {},
   "source": [
    "Podemos notar gráficamente que a partir de un polinomio de grado $2^{7} = 128$, la función ``multpol2`` comienza a ser más eficiente que ``multpol``. El método utilizado parece ser confiable, pues realiza multiples ejecuciones, de donde se utilizó el promedio de éstas para comparar los resultados."
   ]
  }
 ],
 "metadata": {
  "colab": {
   "collapsed_sections": [],
   "name": "Copy of Multiplicación de polinomios.ipynb",
   "provenance": []
  },
  "kernelspec": {
   "display_name": "Python 3",
   "language": "python",
   "name": "python3"
  },
  "language_info": {
   "codemirror_mode": {
    "name": "ipython",
    "version": 3
   },
   "file_extension": ".py",
   "mimetype": "text/x-python",
   "name": "python",
   "nbconvert_exporter": "python",
   "pygments_lexer": "ipython3",
   "version": "3.7.7"
  }
 },
 "nbformat": 4,
 "nbformat_minor": 4
}
