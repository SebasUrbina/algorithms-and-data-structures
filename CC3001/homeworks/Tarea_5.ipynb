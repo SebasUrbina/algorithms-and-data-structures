{
  "nbformat": 4,
  "nbformat_minor": 0,
  "metadata": {
    "kernelspec": {
      "display_name": "Python 3",
      "language": "python",
      "name": "python3"
    },
    "language_info": {
      "codemirror_mode": {
        "name": "ipython",
        "version": 3
      },
      "file_extension": ".py",
      "mimetype": "text/x-python",
      "name": "python",
      "nbconvert_exporter": "python",
      "pygments_lexer": "ipython3",
      "version": "3.7.1"
    },
    "colab": {
      "name": "Tarea 5.ipynb",
      "provenance": [],
      "collapsed_sections": []
    }
  },
  "cells": [
    {
      "cell_type": "markdown",
      "metadata": {
        "id": "dIY5Vsrl21bw"
      },
      "source": [
        "#Nombre: Sebastián Urbina"
      ]
    },
    {
      "cell_type": "markdown",
      "metadata": {
        "id": "W264sNBjewyS"
      },
      "source": [
        "# CC3001 Primavera 2020 Tarea 5\n",
        "# Inserción en la raíz en un ABB\n",
        "## Profesores\n",
        "Sección 1 Benjamin Bustos • Sección 2 Jérémy Barbay • Sección 3 Patricio Poblete / Nelson Baloian"
      ]
    },
    {
      "cell_type": "markdown",
      "metadata": {
        "id": "m8Rb6XLFewyT"
      },
      "source": [
        "---\n",
        "\n",
        "# CONTEXTO"
      ]
    },
    {
      "cell_type": "markdown",
      "metadata": {
        "id": "qO1wwYo7ewyW"
      },
      "source": [
        "El algoritmo usual de inserción en un ABB realiza una búsqueda infurctuosa para la nueva llave, y la coloca en el lugar de la hoja en donde termina la búsqueda. Se dice que es una *inserción en las hojas*.\n",
        "\n",
        "Por contraposición, un algoritmo de *inserción en la raíz* deja la nueva llave como raíz del árbol resultante. En el apunte aparece un algoritmo de este tipo basado en *rotaciones*.\n",
        "\n",
        "El objetivo de esta tarea es implementar inserción en la raíz de un ABB usando un algoritmo alternativo, basado en la operación ``cut``(corte).\n",
        "\n",
        "Para comenzar, recordemos esta implementación del algoritmo de inserción usual (inserción en las hojas) adaptada del apunte:"
      ]
    },
    {
      "cell_type": "code",
      "metadata": {
        "id": "JLwRwHBdewyX"
      },
      "source": [
        "class Nodoi:\n",
        "    def __init__(self, izq, info, der):\n",
        "        self.izq=izq\n",
        "        self.info=info\n",
        "        self.der=der\n",
        "        if x<self.info:\n",
        "            return Nodoi(self.izq.insert(x),self.info,self.der)\n",
        "        else:\n",
        "            return Nodoi(self.izq,self.info,self.der.insert(x))\n",
        "        \n",
        "    def __str__(self):\n",
        "        return \"(\"+self.izq.__str__()+str(self.info)+self.der.__str__()+\")\"\n",
        "\n",
        "class Nodoe:\n",
        "    def __init__(self):\n",
        "        pass\n",
        "    \n",
        "    def insert(self,x):\n",
        "        return Nodoi(Nodoe(),x,Nodoe())\n",
        "    \n",
        "    def __str__(self):\n",
        "        return\"☐\"\n",
        "\n",
        "class Arbol:\n",
        "    def __init__(self,raiz=Nodoe()):\n",
        "        self.raiz=raiz     \n",
        "        \n",
        "    def insert(self,x):\n",
        "        self.raiz=self.raiz.insert(x)\n",
        "    \n",
        "    def __str__(self):        \n",
        "        return self.raiz.__str__()"
      ],
      "execution_count": 61,
      "outputs": []
    },
    {
      "cell_type": "markdown",
      "metadata": {
        "id": "fDxlhHBPewyd"
      },
      "source": [
        "Probemos este algoritmo con una secuencia de inserciones:"
      ]
    },
    {
      "cell_type": "code",
      "metadata": {
        "id": "0MwfhoUwewye",
        "colab": {
          "base_uri": "https://localhost:8080/"
        },
        "outputId": "e5d33efe-380a-4087-bcd3-b01f1f96851f"
      },
      "source": [
        "lista=[4,9,6,2,7,1,8,3,5]\n",
        "a=Arbol()\n",
        "for x in lista:\n",
        "    a.insert(x)\n",
        "print(a)"
      ],
      "execution_count": 43,
      "outputs": [
        {
          "output_type": "stream",
          "text": [
            "(((☐1☐)2(☐3☐))4(((☐5☐)6(☐7(☐8☐)))9☐))\n"
          ],
          "name": "stdout"
        }
      ]
    },
    {
      "cell_type": "markdown",
      "metadata": {
        "id": "0lDD0QD_ewyt"
      },
      "source": [
        "Para definir el algoritmo de inserción en la raíz, definimos primero la operación ``cut(x)``. La idea es la siguiente: dado un árbol $A$ y una llave $x$ que no está en el árbol, el resultado de ejecutar $\\text{cut}(x)$ sobre el árbol $A$ es una tupla $(A_{<x},A_{>x})$, que contiene como primera componente el árbol que contiene solo las llaves que son menores que $x$, y similarmente la segunda componente es el árbol con las llaves mayores que $x$. Por ejemplo:\n",
        "\n",
        "![T5-cut](https://github.com/ppoblete/CC3001-2020-2-Tareas/blob/master/T5-cut.png?raw=1)\n",
        "\n",
        "La operación ``cut(x)`` se puede definir recursivamente:\n",
        "\n",
        "Para el caso de un árbol no vacío con raíz $r$, con $x<r$:\n",
        "\n",
        "![T5-cut2](https://github.com/ppoblete/CC3001-2020-2-Tareas/blob/master/T5-cut2.png?raw=1)\n",
        "\n",
        "El caso $x>r$ es simétrico.\n",
        "\n",
        "El caso de borde es que al hacer ``cut(x)``sobre un nodo ☐, el resultado es una tupla (☐,☐).\n",
        "\n",
        "En base a esta operación ``cut(x)``, es fácil definir una operación ``root_insert(x)``. En efecto, para insertar una nueva llave $x$ en la raíz de un árbol $A$, se hace un corte con $x$ al árbol $A$, y luego se construye el árbol\n",
        "\n",
        "![T5-cut3](https://github.com/ppoblete/CC3001-2020-2-Tareas/blob/master/T5-cut3.png?raw=1)"
      ]
    },
    {
      "cell_type": "markdown",
      "metadata": {
        "id": "rp6tXFp5ewy2"
      },
      "source": [
        "# INSTRUCCIONES"
      ]
    },
    {
      "cell_type": "markdown",
      "metadata": {
        "id": "Oe01FDHAewy3"
      },
      "source": [
        "## Parte 1: ``cut(x)`` y ``root_insert(x)``"
      ]
    },
    {
      "cell_type": "markdown",
      "metadata": {
        "id": "nnmFh7-vewy4"
      },
      "source": [
        "Modifique las clases provistas para agregar la operación ``cut(x)``y la operación ``root_insert(x)``. Escriba acá su código para las clases completas:"
      ]
    },
    {
      "cell_type": "code",
      "metadata": {
        "id": "E1MK7owfDjyQ"
      },
      "source": [
        "class Nodoi:\n",
        "    def __init__(self, izq, info, der):\n",
        "        self.izq=izq\n",
        "        self.info=info\n",
        "        self.der=der\n",
        "    \n",
        "    def cut(self, x):\n",
        "        \"\"\"\n",
        "        Método que dado un valor x corta el ABB en dos subárboles y devuelve una tupla\n",
        "         con dos árboles ABB de la forma(ABB<x,ABB>x)\n",
        "        \"\"\"\n",
        "        if x < self.info:\n",
        "            return self.izq.cut(x)[0], Nodoi(self.izq.cut(x)[1], self.info, self.der) #Si x<valor_padre entonces recorremos recursivamente el lado izquierdo del arbol, mientras el lado derecho se mantiene    \n",
        "        return Nodoi(self.izq, self.info, self.der.cut(x)[0]), self.der.cut(x)[1] #Si x>valor_padre entonces recorremos recursivamente el lado derecho del arbol, mientras el lado izquierdo se mantiene\n",
        "\n",
        "    def root_insert(self, x):\n",
        "        return Nodoi(self.cut(x)[0], x, self.cut(x)[1]) #Cortamos el árbol y insertamos como padre al valor x\n",
        "        \n",
        "    def __str__(self):\n",
        "        return \"(\"+self.izq.__str__()+str(self.info)+self.der.__str__()+\")\"\n",
        "\n",
        "class Nodoe:\n",
        "    def __init__(self):\n",
        "        pass\n",
        "    \n",
        "    def cut(self, x):\n",
        "        return Nodoe(), Nodoe() #Caso base de cut(), cuando se llega a un nodo externo, se retorna una tupla de nodos externos\n",
        "\n",
        "    def root_insert(self, x):\n",
        "        return Nodoi(Nodoe(), x, Nodoe()) #Caso base de root_insert(), cuando llegamos a un nodo externo, retornamos un nodo interno con el valor insertado y dos hijos vacios\n",
        "\n",
        "    def __str__(self):\n",
        "        return\"☐\"\n",
        "\n",
        "class Arbol:\n",
        "    def __init__(self,raiz=Nodoe()):\n",
        "        self.raiz=raiz     \n",
        "\n",
        "    def cut(self, x):\n",
        "        return self.raiz.cut(x)\n",
        "\n",
        "    def root_insert(self, x):\n",
        "        self.raiz = self.raiz.root_insert(x)\n",
        "       \n",
        "    def __str__(self):        \n",
        "        return self.raiz.__str__()\n"
      ],
      "execution_count": 66,
      "outputs": []
    },
    {
      "cell_type": "markdown",
      "metadata": {
        "id": "2YPnD2MSewy5"
      },
      "source": [
        "## Parte 2: Evaluación experimental"
      ]
    },
    {
      "cell_type": "code",
      "metadata": {
        "id": "XawNp8zWImPX",
        "colab": {
          "base_uri": "https://localhost:8080/"
        },
        "outputId": "12ca5cbd-2a57-463c-d99e-9fb579b448ba"
      },
      "source": [
        "#algunos ejemplos\n",
        "a = Arbol(Nodoi(Nodoi(Nodoe(), 5, Nodoe()), \n",
        "                10,\n",
        "                Nodoi(Nodoe(), 20, Nodoe())\n",
        "                ))\n",
        "\n",
        "b = Arbol(Nodoi(Nodoi(Nodoi(Nodoi(Nodoe(),1,Nodoe()) , 2, \n",
        "                            Nodoi(Nodoe(), 3, Nodoi(Nodoe(), 5, Nodoe()))) ,6,\n",
        "                      Nodoi(Nodoe(), 7, Nodoi(Nodoe(),8,Nodoe()))),\n",
        "                9,\n",
        "                Nodoe()))\n",
        "print(a.cut(6)[0], a.cut(6)[1])\n",
        "print(b.cut(4)[0], b.cut(4)[1])"
      ],
      "execution_count": 64,
      "outputs": [
        {
          "output_type": "stream",
          "text": [
            "(☐5☐) (☐10(☐20☐))\n",
            "((☐1☐)2(☐3☐)) (((☐5☐)6(☐7(☐8☐)))9☐)\n"
          ],
          "name": "stdout"
        }
      ]
    },
    {
      "cell_type": "markdown",
      "metadata": {
        "id": "j0qi8nqJewy6"
      },
      "source": [
        "A continuación, ejecute lo siguiente para probar su implementación:"
      ]
    },
    {
      "cell_type": "code",
      "metadata": {
        "id": "h0X001Uqewy7",
        "colab": {
          "base_uri": "https://localhost:8080/"
        },
        "outputId": "9cdafaa3-bc47-4ab5-95b4-093fefa6ebb3"
      },
      "source": [
        "lista=[4,9,6,2,7,1,8,3,5]\n",
        "a=Arbol()\n",
        "for x in reversed(lista):\n",
        "    a.root_insert(x)\n",
        "print(a)"
      ],
      "execution_count": 65,
      "outputs": [
        {
          "output_type": "stream",
          "text": [
            "(((☐1☐)2(☐3☐))4(((☐5☐)6(☐7(☐8☐)))9☐))\n"
          ],
          "name": "stdout"
        }
      ]
    },
    {
      "cell_type": "markdown",
      "metadata": {
        "id": "UX12fMWGewzB"
      },
      "source": [
        "Si todo está bien, el resultado de insertar al lista reversa usando ``root_insert``debería ser igual al obtenido insertando la lista original usando ``insert``."
      ]
    }
  ]
}