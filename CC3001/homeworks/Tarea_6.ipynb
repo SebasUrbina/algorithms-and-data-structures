{
  "nbformat": 4,
  "nbformat_minor": 0,
  "metadata": {
    "colab": {
      "name": "Tarea 6.ipynb",
      "provenance": [],
      "collapsed_sections": []
    },
    "kernelspec": {
      "name": "python3",
      "display_name": "Python 3"
    }
  },
  "cells": [
    {
      "cell_type": "markdown",
      "metadata": {
        "id": "Bv3Vl_Gf0Nbg"
      },
      "source": [
        "# Nombre: Sebastián Urbina"
      ]
    },
    {
      "cell_type": "markdown",
      "metadata": {
        "id": "jbGTgr_lRz25"
      },
      "source": [
        "# CC3001 Otoño 2020 Tarea 6: Comparación de métodos de hashing\n"
      ]
    },
    {
      "cell_type": "markdown",
      "metadata": {
        "id": "FW_kdPNBDWMo"
      },
      "source": [
        "Profesores: Sección 1 Benjamin Bustos, Seccion 2 Jérémy Barbay, Sección 3 Patricio Poblete y Nelson Baloian\n"
      ]
    },
    {
      "cell_type": "markdown",
      "metadata": {
        "id": "EO5XDucz1enK"
      },
      "source": [
        "## Temas abordados"
      ]
    },
    {
      "cell_type": "markdown",
      "metadata": {
        "id": "KsQpR5jk1h_y"
      },
      "source": [
        "1. [ ] Hashing Abierto\n",
        "1. [ ] Búsqueda binaria\n"
      ]
    },
    {
      "cell_type": "markdown",
      "metadata": {
        "id": "vbJTCiJ_F6Ff"
      },
      "source": [
        "## Objetivos de aprendizaje\n"
      ]
    },
    {
      "cell_type": "markdown",
      "metadata": {
        "id": "vaHYh8E61d6A"
      },
      "source": [
        "Despues de realizar esta tarea, el alumno debería\n",
        "1. [ ] tener un mejor entendimiento de cómo funciona la técnica de Hashing  en sus modalidad de encadenamiento para resolver colisiones  y cómo se comporta empíricamente;\n"
      ]
    },
    {
      "cell_type": "markdown",
      "metadata": {
        "id": "9rEulNwi1Wnv"
      },
      "source": [
        "## Entrega"
      ]
    },
    {
      "cell_type": "markdown",
      "metadata": {
        "id": "Airlyusam2BK"
      },
      "source": [
        "Entrega: Para que su tarea sea evaluada, ustedes deben entregar una copia de este Python Notebook completado con texto (explicaciones de su trabajo), el código de sus funciones y de sus pruebas (al menos 10 por cada función)."
      ]
    },
    {
      "cell_type": "markdown",
      "metadata": {
        "id": "hxUbupV9DevT"
      },
      "source": [
        "\n",
        "---\n",
        "\n",
        "# Instrucciones"
      ]
    },
    {
      "cell_type": "markdown",
      "metadata": {
        "id": "U2mpd7vX4rty"
      },
      "source": [
        "## Lo pedido"
      ]
    },
    {
      "cell_type": "markdown",
      "metadata": {
        "id": "uMpmFedFPAic"
      },
      "source": [
        "En esta tarea Usted debe implementar y comparar la eficiencia de Hashing con encadenamiento (listas enlazadas), versus búsqueda binaria. Para eso se le pide primero que complete la clase Hashing, que implementa una tabla de hashing que resuelve las colisiones con encadenamiento (puede además definir otras clases auxiliares):"
      ]
    },
    {
      "cell_type": "code",
      "metadata": {
        "id": "XW9sqK6FJqXv"
      },
      "source": [
        "class Nodo:\n",
        "    def __init__(self, info, sgte=None):\n",
        "        self.info=info\n",
        "        self.sgte=sgte\n",
        "        \n",
        "class Lista:\n",
        "    def __init__(self, primero = None):\n",
        "        self.primero=primero\n",
        "\n",
        "    def insertar(self, info):\n",
        "        self.primero=Nodo(info, self.primero)\n",
        "        \n",
        "    def esta(self, x):\n",
        "        \"\"\"\n",
        "        Retorna True o Flase si x está en la lista enlazada más el numero de comparaciones que realizó\n",
        "        \"\"\"\n",
        "        comp = 1 #nro comparaciones\n",
        "        p  = self.primero\n",
        "        while p is not None:\n",
        "            if p.info == x:\n",
        "                return True,comp\n",
        "            p = p.sgte\n",
        "            comp+=1\n",
        "        return False,comp"
      ],
      "execution_count": 3,
      "outputs": []
    },
    {
      "cell_type": "code",
      "metadata": {
        "id": "XdOzK3ZzRF0e"
      },
      "source": [
        "import random, sympy, numpy\n",
        "class Hashing:\n",
        "  def __init__ (self,m):\n",
        "     # Inicializacion de tabla de tamaño m \n",
        "     self.m = m  # tamaño de la tabla\n",
        "     self.p = sympy.randprime(100000,1000000) #Genera un numero primo al azar dentro del rango especificado\n",
        "     self.a = random.randint(1,self.p) # genera un numero entero al azar dentro del rango especificado\n",
        "     self.tabla=numpy.full(m, None, dtype=object) #Crea un arreglo que puede contener objetos (punteros a ellos)\n",
        "\n",
        "  def h(self,x): \n",
        "    # retorna el valor hashing para x = ((a*x)mod PRIME)mod m\n",
        "    return  ((self.a*x)%self.p)%self.m\n",
        "    \n",
        "  def insertar(self,x):\n",
        "    # inserta un elemento en la tabla\n",
        "    i = self.h(x) #indice \n",
        "    tabla = self.tabla\n",
        "    if tabla[i] == None: #Si la posición está vacía entonces insertamos una lista enlazada\n",
        "        tabla[i] = Lista()\n",
        "        tabla[i].insertar(x)\n",
        "    else: #Si la posición no está vacia significa que hay una lista enlazada, por lo que insertamos el valor a la lista\n",
        "        tabla[i].insertar(x)\n",
        "    \n",
        "  def buscar(self,x):\n",
        "    # retorna el numero de COMPARACIONES que hizo para determinar si  \n",
        "    # x estaba o no en la tabla \n",
        "    i = self.h(x) \n",
        "    tabla = self.tabla\n",
        "    if tabla[i] is None:\n",
        "        return 1 #Si el espacio es vacío, significa que x no está, por tanto retornamos 1(la única comparación realizada)\n",
        "    b, comp = tabla[i].esta(x) #Buscamos en nro en la lista enlazada correspondiente, lo que devuelve el nro de comparaciones a realizar\n",
        "    return comp+1"
      ],
      "execution_count": 4,
      "outputs": []
    },
    {
      "cell_type": "markdown",
      "metadata": {
        "id": "GLDp2EAxyhVW"
      },
      "source": [
        "Ademas debe modificar la búsqueda binaria (VERSION OPTIMIZADA, descrita en el Capítulo 4 Sección \"Una manera más eficiente de programar la búsqueda binaria\") para que devuelva el número de comparaciones realizadas durante la búsqueda."
      ]
    },
    {
      "cell_type": "code",
      "metadata": {
        "id": "qrT1sw8sY2s3"
      },
      "source": [
        "def bbin(x, a):\n",
        "    \"\"\"\n",
        "    Busca x en el arreglo a, retorna subíndice o -1 si no está\n",
        "    \"\"\"\n",
        "    n = len(a)\n",
        "    i = 0\n",
        "    j = n - 1\n",
        "    c = 1 #agregamos un contador de comparaciones\n",
        "    while i < j:\n",
        "        k = (i+j)//2\n",
        "        c += 1 #contamos 1 por cada vez q entra al while, es decir, cada vez q realiza una comparación\n",
        "        if x <= a[k]:\n",
        "            j = k\n",
        "        else:\n",
        "            i = k + 1\n",
        "    # if i == j and x == a[i]:\n",
        "    #     return i\n",
        "    # else:\n",
        "    #     return -1\n",
        "    return c"
      ],
      "execution_count": 5,
      "outputs": []
    },
    {
      "cell_type": "markdown",
      "metadata": {
        "id": "6Wx021sLOVNw"
      },
      "source": [
        "Luego escriba el codigo necesario para realizar los siguientes experimentos y mostrar los resultados en graficos usando *%pylab inline*, como se ha visto en ejemplos en los apuntes del curso: \n",
        "\n",
        "1.   Crear un conjunto de $n=100.000$ numeros enteros únicos (sin repeticion) entre $0$ y $100.000.000$ y ponerlos en un arreglo ordenado y en una tabla de hashing de tamaño $m=10.000$. Para ordenar el arreglo puede usar el método *sort()*.\n",
        "2.   Generar $t=1.000$ números entre $0$ y $100.000.000$ y registrar el número de comparaciones promedio que se obtiene al buscarlos en el arreglo con busqueda binaria ($c1$) y con la tabla de hashing ($c2$).\n",
        "3.   Repetir el experimento anterior para $n$ variable (a lo menos $10$ veces), de modo de encontrar el factor de carga para el cual el los resultados de la busqueda binaria y la busqueda con hashing encadenado en una tabla de tamaño $10.000$ sean iguales. Recuerde que el factor de carga se define como $n/m$, con $n=$ numero de elementos en la tabla, y $m=$ tamaño de la tabla (queda fijo $m =$ 10.000 para esta tarea).\n",
        "4.   Para mostrar gráficamente ese punto, con los resultados de los experimentos pedidos en el punto anterior confeccione un grafico con curvas uniendo los puntos $n$ vs. $c1$ y $n$ vs. $c2$."
      ]
    },
    {
      "cell_type": "code",
      "metadata": {
        "id": "u7if7QRFUAOS"
      },
      "source": [
        "import numpy as np\n",
        "\n",
        "c1 = []\n",
        "c2 = []\n",
        "\n",
        "ns = [1000,5000,10000,15000,20000,25000,50000,100000,500000,750000]\n",
        "for r in ns:\n",
        "    c1_aux = []\n",
        "    c2_aux = []\n",
        "    n = np.random.choice(range(100000000), r, replace = False) #arreglo con r valores aleatorios únicos entre 0 y 100.000.000\n",
        "    n.sort() #lo ordenamos\n",
        "\n",
        "    c = Hashing(10000) #agregamos a la tabla de Hashing\n",
        "    for i in n:\n",
        "        c.insertar(i)\n",
        "\n",
        "    t = np.random.choice(range(100000000), 1000, replace = False) #arreglo con 1.000 valores aleatorios únicos entre 0 y 100.000.000\n",
        "    \n",
        "    for i in t:\n",
        "        c1_aux.append(bbin(i, n)) #obtenemos el nro de comparaciones al buscr los valores de t en n con busqueda binaria\n",
        "    c1.append(np.mean(c1_aux)) #calculamos el promedio al buscar los t valores y agregamos el promedio a c1.\n",
        "\n",
        "    for i in t:\n",
        "        c2_aux.append(c.buscar(i)) #utilizando Hashing, obtenemos el nro de comparaciones necesarias para buscar los valores de t en la tabla creada anteriormente\n",
        "    c2.append(np.mean(c2_aux)) #de los t valores calculamos el promedio y lo agregamos a c2"
      ],
      "execution_count": 8,
      "outputs": []
    },
    {
      "cell_type": "code",
      "metadata": {
        "colab": {
          "base_uri": "https://localhost:8080/",
          "height": 623
        },
        "id": "isSmpGWFUhGa",
        "outputId": "774440e5-ca86-4b11-cdfb-260874df3309"
      },
      "source": [
        "%pylab inline\n",
        "\n",
        "plt.figure(figsize=(20,10))\n",
        "ns = [1000,5000,10000,15000,20000,25000,50000,100000,500000,750000]\n",
        "plt.plot(ns, c1)\n",
        "plt.plot(ns, c2)\n",
        "plt.xlabel(\"n\")\n",
        "plt.ylabel(\"Promedio N° Comparaciones\")\n",
        "plt.grid(True)\n",
        "plt.xticks(np.arange(min(ns), max(ns), 50000))\n",
        "plt.axvline(x=161500, c= \"red\")\n",
        "plt.show()"
      ],
      "execution_count": 59,
      "outputs": [
        {
          "output_type": "stream",
          "text": [
            "Populating the interactive namespace from numpy and matplotlib\n"
          ],
          "name": "stdout"
        },
        {
          "output_type": "display_data",
          "data": {
            "image/png": "[encoded data removed]",
            "text/plain": [
              "<Figure size 1440x720 with 1 Axes>"
            ]
          },
          "metadata": {
            "tags": [],
            "needs_background": "light"
          }
        }
      ]
    },
    {
      "cell_type": "markdown",
      "metadata": {
        "id": "OU8a1i_WSxGg"
      },
      "source": [
        "Se puede observar que el punto de corte da alrededor de $n = 161.000$"
      ]
    }
  ]
}