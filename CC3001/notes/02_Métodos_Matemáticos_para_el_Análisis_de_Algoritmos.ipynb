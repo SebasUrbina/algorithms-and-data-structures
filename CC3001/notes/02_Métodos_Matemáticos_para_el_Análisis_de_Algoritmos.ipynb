{
  "nbformat": 4,
  "nbformat_minor": 0,
  "metadata": {
    "kernelspec": {
      "display_name": "Python 3",
      "language": "python",
      "name": "python3"
    },
    "language_info": {
      "codemirror_mode": {
        "name": "ipython",
        "version": 3
      },
      "file_extension": ".py",
      "mimetype": "text/x-python",
      "name": "python",
      "nbconvert_exporter": "python",
      "pygments_lexer": "ipython3",
      "version": "3.7.1"
    },
    "colab": {
      "provenance": []
    }
  },
  "cells": [
    {
      "cell_type": "markdown",
      "metadata": {
        "id": "lEaTIKn9mOql"
      },
      "source": [
        "# 2 Métodos Matemáticos para el Análisis de Algoritmos\n",
        "\n",
        "Para cuantificar la eficiencia de los algoritmos, utilizamos funciones que miden, por ejemplo, cuánto tiempo demora un algoritmo en ejecutarse sobre una entrada dada, cuál es su peor caso sobre un conjunto de entradas posibles, o cuánto demora en promedio, suponiendo una cierta distribución de probabilidad de las entradas. Ocasionalmente, estudiaremos el uso de otro tipo de recursos, como por ejemplo la cantidad de memoria utilizada.\n",
        "\n",
        "Es habitual que los resultados que obtengamos dependan de un parámetro $n$, que representa el tamaño del problema (por ejemplo, el número de elementos a ordenar, el número de elementos en un conjunto en el que hay que hacer una búsqueda, etc.). Por lo tanto, nuestras funciones serán normalmente *funciones discretas*, esto es funciones cuyo argumento es un número entero nonegativo. Como notación, para este tipo de funciones utilizaremos indistintamente una notación de funciones $f(n)$ o de sucesiones $f_n$.\n",
        "\n",
        "Tal como en Física el estudio de funciones de variable continua $f(t)$ conduce a ecuaciones diferenciales que luego hay que resolver, acá el estudio de funciones de variable discreta $f(n)$ conducirá a *ecuaciones de recurrencia*, y en este capítulo veremos algunos métodos para resolver ese tipo de ecuaciones."
      ]
    },
    {
      "cell_type": "markdown",
      "metadata": {
        "id": "KJpAHLIpmOqn"
      },
      "source": [
        "## Notación $O$\n",
        "\n",
        "Al trabajar con funciones que pueden ser muy complicadas, en la práctica resulta útil poder ignorar los términos de orden inferior para concentrarse en el que determina la forma en que la función evoluciona cuando $n \\rightarrow \\infty$. También resulta útil en ese caso poder ignorar factores constantes, para concentrarse en la forma como la función depende de $n$.\n",
        "\n",
        "Utilizaremos la notación\n",
        "$$\n",
        "f(n)=O(g(n))\n",
        "$$\n",
        "si existe una constante $C$ y un número $n_0$ tal que\n",
        "\n",
        "$$\n",
        "|f(n)| \\le C|g(n)|\n",
        "$$\n",
        "\n",
        "para todo $n\\ge n_0$.\n",
        "\n",
        "Cuando la notación $O(g(n))$ aparezca en medio de una fórmula, representará a una función que cumple con la condición anterior.\n",
        "\n",
        "Es importante notar que la notación $O$ provee una cota superior, la cual puede o no ser cercana a la función de la izquierda.\n",
        "Más adelante veremos una notación más ajustada.\n",
        "\n",
        "### Ejemplos\n",
        "\n",
        "* $3n=O(n)$\n",
        "* $2=O(1)$\n",
        "* $2=O(n)$\n",
        "* $3n+2=O(n)$\n",
        "\n",
        "La notación $f(n)=O(g(n))$ es utilizada por la mayoría de los autores, pero hay que usarla con cuidado, porque la igualdad que ahí aparece **no es una relación reflexiva**.\n",
        "En efecto, de $3n=O(n)$ y $2=O(n)$, **no** podemos deducir que $3n=2$.\n",
        "Hay que tener presente siempre que lo que aparece a la derecha del signo igual contiene menos información que lo de la izquierda.\n",
        "\n",
        "Para evitar las posible confusiones que podrían derivar de este uso no estándar del signo igual, algunos autores prefieren escribir\n",
        "\n",
        "$$\n",
        "f(n) \\in O(g(n))\n",
        "$$\n",
        "\n",
        "en donde $O(g(n))$ se interpreta como el _conjunto_ de todas las funciones que acotan a $f(n)$ de la manera indicada.\n"
      ]
    },
    {
      "cell_type": "markdown",
      "metadata": {
        "id": "HWEPICCdmOqo"
      },
      "source": [
        "## Notación $\\Omega$\n",
        "\n",
        "De manera análoga, se puede definir una notación de cota inferior.\n",
        "\n",
        "Diremos que\n",
        "$$\n",
        "f(n)=\\Omega(g(n))\n",
        "$$\n",
        "si existe una constante $C$ y un número $n_0$ tal que\n",
        "\n",
        "$$\n",
        "|f(n)|\\ge C|g(n)|\n",
        "$$\n",
        "\n",
        "para todo $n\\ge n_0$.\n",
        "\n",
        "### Ejemplos\n",
        "\n",
        "* $3=\\Omega(1)$\n",
        "* $3n=\\Omega(n)$\n",
        "* $3n=\\Omega(1)$\n",
        "* $3n+2=\\Omega(n)$"
      ]
    },
    {
      "cell_type": "markdown",
      "metadata": {
        "id": "HzatWitnmOqp"
      },
      "source": [
        "## Notación $\\Theta$\n",
        "\n",
        "La notación $\\Theta$ nos permite especificar el orden exacto de crecimiento de una función.\n",
        "\n",
        "Diremos que\n",
        "$$\n",
        "f(n)=\\Theta(g(n))\n",
        "$$\n",
        "si $f(n)=O(g(n))$ y $f(n)=\\Omega(g(n))$\n",
        "\n",
        "### Ejemplo\n",
        "\n",
        "* $3n+2=\\Theta(n)$"
      ]
    },
    {
      "cell_type": "markdown",
      "metadata": {
        "id": "nFvrGs3KmOqp"
      },
      "source": [
        "Esta notación enfatiza que lo más importante, cuando $n$ crece, es el orden de magnitud de las funciones, y que podemos ignorar constantes multiplicativas y términos de orden inferior para comparar funciones a largo plazo.\n",
        "\n",
        "Por otra parte, si por alguna razón queremos comparar funciones para $n$ pequeño, ahí toda la información es significativa, y como muestra el siguiente gráfico, en ese rango una solución \"ineficiente\" puede resultar preferible a otra que solo es eficiente para $n$ grande:"
      ]
    },
    {
      "cell_type": "code",
      "metadata": {
        "id": "rYHYGkdEmOqt",
        "outputId": "daa2b41e-f460-4001-a751-2a77274cb2f5"
      },
      "source": [
        "%pylab inline"
      ],
      "execution_count": null,
      "outputs": [
        {
          "output_type": "stream",
          "text": [
            "Populating the interactive namespace from numpy and matplotlib\n"
          ],
          "name": "stdout"
        }
      ]
    },
    {
      "cell_type": "code",
      "metadata": {
        "scrolled": true,
        "id": "ahN40bkemOqz",
        "outputId": "f63a0470-4746-4862-c0fb-3a2d752913ad"
      },
      "source": [
        "n=linspace(1,10)\n",
        "plt.plot(n,n+6,label='$n+6$')\n",
        "plt.plot(n,log(n)+8, label='$\\log{n}+8$')\n",
        "leg=plt.legend(loc='best')"
      ],
      "execution_count": null,
      "outputs": [
        {
          "output_type": "display_data",
          "data": {
            "image/png": "[encoded data removed]",
            "text/plain": [
              "<Figure size 432x288 with 1 Axes>"
            ]
          },
          "metadata": {
            "tags": [],
            "needs_background": "light"
          }
        }
      ]
    },
    {
      "cell_type": "code",
      "metadata": {
        "id": "HWBjRDBmmOq5",
        "outputId": "3153de20-eada-4cc2-edea-a6c5dfa9615d"
      },
      "source": [
        "n=linspace(1,10)\n",
        "plt.plot(n,n*n, label='$n^2$')\n",
        "plt.plot(n,2*n*log(n)+5, label='$2n\\log{n}+5$')\n",
        "leg=plt.legend(loc='best')"
      ],
      "execution_count": null,
      "outputs": [
        {
          "output_type": "display_data",
          "data": {
            "image/png": "[encoded data removed]",
            "text/plain": [
              "<Figure size 432x288 with 1 Axes>"
            ]
          },
          "metadata": {
            "tags": [],
            "needs_background": "light"
          }
        }
      ]
    },
    {
      "cell_type": "markdown",
      "metadata": {
        "id": "0JyBlx72mOq-"
      },
      "source": [
        "## Ecuaciones de Recurrencia\n",
        "\n",
        "Al estudiar la eficiencia de algoritmos, a menudo podremos escribir ecuaciones que relacionan el valor de la función en $n$ con los valores de la función en $n-1$, $n-2$, etc. Para que estas ecuaciones tengan solución única, debemos especificar además las *condiciones iniciales*, también llamadas *condiciones de borde*.\n",
        "\n",
        "### Ejemplo: Número de movidas en las Torres de Hanoi\n",
        "\n",
        "$$\n",
        "\\begin{align}\n",
        "a_n &= 2 a_{n-1} + 1 \\text{ para } n\\ge 1\\\\\n",
        "a_0 &= 0\n",
        "\\end{align}\n",
        "$$\n",
        "\n",
        "### Ejemplo: Números de Fibonacci\n",
        "\n",
        "$$\n",
        "\\begin{align}\n",
        "f_n &= f_{n-1}+f_{n-2} \\text{ para } n\\ge 2\\\\\n",
        "f_0 &= 0\\\\\n",
        "f_1 &= 1\n",
        "\\end{align}\n",
        "$$"
      ]
    },
    {
      "cell_type": "markdown",
      "metadata": {
        "id": "txFVvysRmOq_"
      },
      "source": [
        "## Resolución de Ecuaciones Lineales de Primer Orden\n",
        "\n",
        "Consideremos ecuaciones de la forma\n",
        "\n",
        "$$\n",
        "a_{n}=ba_{n-1}+c_{n}\n",
        "$$\n",
        "\n",
        "donde $b$ es una constante distinta de cero y $c_n$ es una función conocida.\n",
        "\n",
        "Para ver cómo resolver este tipo de ecuaciones, a modo de \"precalentamiento\", veamos cómo resolver esta ecuación para el caso $b=1$:\n",
        "\n",
        "$$\n",
        "a_{n}=a_{n-1}+c_{n}\n",
        "$$\n",
        "\n",
        "Esto se puede reescribir como\n",
        "\n",
        "$$\n",
        "a_{n}-a_{n-1}=c_{n}\n",
        "$$\n",
        "\n",
        "y ahora introducimos sumatoria en ambos lados:\n",
        "\n",
        "$$\n",
        "\\sum_{1\\le k \\le n}(a_{k}-a_{k-1})=\\sum_{1\\le k \\le n}c_{k}\n",
        "$$\n",
        "\n",
        "Pero la suma de la izquierda es telescópica, así que el resultado es:\n",
        "\n",
        "$$\n",
        "a_n = a_0 + \\sum_{1\\le k \\le n}c_{k}\n",
        "$$\n",
        "\n",
        "Abordemos ahora el caso general. La idea es tomar la ecuación $a_{n}=ba_{n-1}+c_{n}$ y reducirla de alguna manera al caso $a=1$ que ya sabemos resolver.\n",
        "\n",
        "Para esto, dividiremos ambos lados de la ecuación por el _factor sumante_ $b^n$, obteniendo\n",
        "\n",
        "$$\n",
        "\\frac{a_{n}}{b^n}=\\frac{a_{n-1}}{b^{n-1}}+\\frac{c_{n}}{b^n}\n",
        "$$\n",
        "\n",
        "Si ahora hacemos la sustitución $A_n = a_n/b^n$ y $C_n = c_n/b^n$, la ecuación queda en la forma\n",
        "\n",
        "$$\n",
        "A_{n}=A_{n-1}+C_{n}\n",
        "$$\n",
        "\n",
        "que ya sabemos cómo resolver:\n",
        "\n",
        "$$\n",
        "A_n = A_0 + \\sum_{1\\le k \\le n}C_{k}\n",
        "$$\n",
        "\n",
        "Haciendo ahora la sustitución inversa, obtenemos el resultado:\n",
        "\n",
        "$$\n",
        "a_{n}=a_{0}b^{n}+\\sum_{1\\leq k\\leq n}c_{k}b^{n-k}\n",
        "$$"
      ]
    },
    {
      "cell_type": "markdown",
      "metadata": {
        "id": "A-ZnIxYymOq_"
      },
      "source": [
        "## Ejemplo: Número de Movidas en las Torres de Hanoi\n",
        "\n",
        "La ecuación\n",
        "\n",
        "$$\n",
        "\\begin{align}\n",
        "a_n &= 2 a_{n-1} + 1 \\text{ para } n\\ge 1\\\\\n",
        "a_0 &= 0\n",
        "\\end{align}\n",
        "$$\n",
        "\n",
        "tiene como solución\n",
        "\n",
        "$$\n",
        "a_{n}=\\sum_{1\\leq k\\leq n}2^{n-k}=\\sum_{0\\leq k\\leq n-1}2^{k}\n",
        "$$\n",
        "\n",
        "lo cual se simplifica a\n",
        "\n",
        "$$\n",
        "a_{n}=2^{n}-1\n",
        "$$"
      ]
    },
    {
      "cell_type": "markdown",
      "metadata": {
        "id": "fj41YAVQmOrA"
      },
      "source": [
        "---"
      ]
    },
    {
      "cell_type": "markdown",
      "metadata": {
        "id": "r6LEUHUpmOrA"
      },
      "source": [
        "### Ejercicio 2.1\n",
        "\n",
        "Resuelva la ecuación\n",
        "\n",
        "$$\n",
        "a_n=b_n a_{n-1}+c_n\n",
        "$$\n",
        "\n",
        "donde $b_n$ y $c_n$ son funciones conocidas y $b_n\\neq 0$ for all $n\\ge 0$."
      ]
    },
    {
      "cell_type": "markdown",
      "metadata": {
        "id": "uQeeoEuWmOrB"
      },
      "source": [
        "---"
      ]
    },
    {
      "cell_type": "markdown",
      "metadata": {
        "id": "_Bs54558mOrB"
      },
      "source": [
        "## Resolución de Ecuaciones Lineales Homogéneas con Coeficientes Constantes\n",
        "\n",
        "Consideremos por ejemplo la ecuación de Fibonacci\n",
        "\n",
        "$$\n",
        "\\begin{align}\n",
        "f_n &= f_{n-1}+f_{n-2} \\text{ para } n\\ge 2\\\\\n",
        "f_0 &= 0\\\\\n",
        "f_1 &= 1\n",
        "\\end{align}\n",
        "$$\n",
        "\n",
        "La siguiente tabla muestra los valores que toma esta función:\n",
        "\n",
        "| $𝑛$  | 0 | 1 | 2 | 3 | 4 | 5 | 6 | 7 | 8 | 9 | 10 | 11 | 12 | 13 | 14 | 15 | 16 | 17 | 18 | 19 | 20 |\n",
        "| --- | --- | --- | --- | --- | --- | --- | --- | --- | --- | --- | --- | --- | --- | --- | --- | --- | --- | --- | --- | --- | --- |\n",
        "| $f_n$ | 0 | 1 | 1 | 2 | 3 | 5 | 8 | 13 | 21 | 34 | 55 | 89 | 144 | 233 | 377 | 610 | 987 | 1597 | 2584 | 4181 | 6765 |\n",
        "\n",
        "\n",
        "\n",
        "Como se ve, el crecimiento es bastante rápido. Esto es porque este tipo de ecuaciones suele tener soluciones de tipo exponencial, esto es, soluciones de la forma\n",
        "\n",
        "$$\n",
        "f_n = \\lambda^n\n",
        "$$\n",
        "\n",
        "para alguna constante $\\lambda$.\n",
        "Además, si encontramos más de una constante $\\lambda$ para la cual se satisfaga la ecuación, por ser una ecuación lineal, cualquier combinación lineal de esas soluciones también será solución.\n",
        "\n",
        "Si logramos encontrar una solución que cumpla las condiciones iniciales bajo este supuesto, no necesitamos seguir buscando, porque la solucion es única.\n",
        "\n",
        "Sustituyendo $\\lambda^n$ en lugar de $f_n$, y dividiendo ambos lados por $\\lambda^{n-2}$ obtenemos la siguiente ecuación\n",
        "\n",
        "$$\n",
        "\\lambda^{2}-\\lambda-1=0\n",
        "$$\n",
        "\n",
        "llamada la _ecuación característica_ de la ecuación de recurrencia.\n",
        "\n",
        "Resolviendo esta ecuación de segundo grado, obtenemos las raíces\n",
        "\n",
        "$$\n",
        "\\phi=\\frac{1+\\sqrt{5}}{2}\\approx1.618\\ldots,\\qquad\\hat{\\phi}=\\frac{1-\\sqrt{5}}{2}\\approx-0.618\\ldots\n",
        "$$\n",
        "\n",
        "La solución general sería una combinación lineal de estas soluciones:\n",
        "\n",
        "$$\n",
        "f_{n}=A\\phi^{n}+B\\hat{\\phi}^{n}\n",
        "$$\n",
        "\n",
        "La condición inicial $f_0=0$ implica que $B=-A$, y por lo tanto\n",
        "\n",
        "$$\n",
        "f_{n}=A(\\phi^{n}-\\hat{\\phi}^{n})\n",
        "$$\n",
        "\n",
        "La segunda condición inicial, $f_1=1$, implica que\n",
        "\n",
        "$$\n",
        "A(\\phi-\\hat{\\phi})=A\\sqrt{5}=1\n",
        "$$\n",
        "\n",
        "Con lo cual obtenermos la siguiente fórmula para los números de Fibonacci:\n",
        "\n",
        "$$\n",
        "f_{n}=\\frac{1}{\\sqrt{5}}(\\phi^{n}-\\hat{\\phi}^{n})\n",
        "$$\n",
        "\n",
        "Nótese que como $|\\hat{\\phi}|<1$, el aporte del segundo término tiende a cero rápidamente, y $f_n=\\Theta(\\phi^n)$."
      ]
    },
    {
      "cell_type": "code",
      "metadata": {
        "id": "lGEdVpWYmOrE"
      },
      "source": [
        "import math\n",
        "def f(n):\n",
        "    r5=math.sqrt(5)\n",
        "    phi=(1+r5)/2\n",
        "    phihat=(1-r5)/2\n",
        "    return 1/r5*(phi**n-phihat**n)"
      ],
      "execution_count": null,
      "outputs": []
    },
    {
      "cell_type": "code",
      "metadata": {
        "scrolled": true,
        "id": "QcZnc3DkmOrL",
        "outputId": "3db1fb71-56fa-4934-e119-bff4bfd26567"
      },
      "source": [
        "print(f(10), f(15), f(20))"
      ],
      "execution_count": null,
      "outputs": [
        {
          "output_type": "stream",
          "text": [
            "55.000000000000014 610.0000000000003 6765.000000000005\n"
          ],
          "name": "stdout"
        }
      ]
    },
    {
      "cell_type": "markdown",
      "metadata": {
        "id": "NwEY6lTwmOrR"
      },
      "source": [
        "El \"ruido\" que es observa en las cifras finales es producto de los errores de truncación al representar irracionales como $\\sqrt{5}$ en punto flotante. Si expandiéramos las fórmulas y simplificáramos, obtendríamos los valores exactos."
      ]
    },
    {
      "cell_type": "markdown",
      "metadata": {
        "id": "YPNP-osfmOrS"
      },
      "source": [
        "## Ejemplo: Número de movidas en las Torres de Hanoi\n",
        "\n",
        "Veamos ahora una nueva manera de resolver la ecuación de Hanoi, la cual podemos rescribir como\n",
        "\n",
        "$$\n",
        "\\begin{align}\n",
        "a_n - 2 a_{n-1} &= 1 \\text{ para } n\\ge 1\\\\\n",
        "a_0 &= 0\n",
        "\\end{align}\n",
        "$$\n",
        "\n",
        "Ésta es una ecuación lineal de coeficientes constantes *no homogénea*, de modo que el método que acabamos de ver no es directamente aplicable.\n",
        "\n",
        "Si definimos el operador $\\Delta$ como $\\Delta a_n = a_{n+1}-a_n$, podemos transformar esta ecuación en una ecuación homogénea aplicando el operador $\\Delta$ a ambos lados:\n",
        "\n",
        "$$\n",
        "\\Delta (a_n - 2 a_{n-1}) = \\Delta 1\n",
        "$$\n",
        "\n",
        "$$\n",
        "(a_{n+1}-2a_n)-(a_n-2a_{n-1})=1-1\n",
        "$$\n",
        "\n",
        "esto es\n",
        "\n",
        "$$\n",
        "a_{n+1}-3a_n+2a_{n-1}=0\n",
        "$$\n",
        "\n",
        "De manera similar, cualquier ecuación de este tipo en que la parte no homogénea es un polinomio en $n$ puede convertirse en una ecuación homogénea por aplicaciones reiteradas del operador $\\Delta$.\n",
        "\n",
        "Si \"pasamos en limpio\" esta ecuación de modo que su término líder sea $a_n$, se ve que la nueva ecuación sólo es válida para $n\\ge 2$, de modo que se necesita una segunda condición inicial, la cual se obtiene sin problemas desde la ecuación original."
      ]
    },
    {
      "cell_type": "markdown",
      "metadata": {
        "id": "3GLKpkPUmOrT"
      },
      "source": [
        "---"
      ]
    },
    {
      "cell_type": "markdown",
      "metadata": {
        "id": "LFMLz7cVmOrl"
      },
      "source": [
        "### Ejercicio 2.2\n",
        "\n",
        "Resuelva la ecuación homogénea de las Torres de Hanoi:\n",
        "\n",
        "$$\n",
        "\\begin{align}\n",
        "a_n-3a_{n-1}+2a_{n-2}&=0 \\text{ para } n\\ge 2\\\\\n",
        "a_0=0\\\\\n",
        "a_1=1\n",
        "\\end{align}\n",
        "$$"
      ]
    },
    {
      "cell_type": "markdown",
      "metadata": {
        "id": "wuk1MFS7mOrt"
      },
      "source": [
        "---"
      ]
    },
    {
      "cell_type": "markdown",
      "metadata": {
        "id": "iZOoXlScmOrv"
      },
      "source": [
        "## El Teorema Maestro\n",
        "\n",
        "Veremos diversos algoritmos que dan origen a recurrencias de la forma\n",
        "\n",
        "$$\n",
        "T(n)=pT(\\frac{n}{q})+Cn^r\n",
        "$$\n",
        "\n",
        "Para simplificar, supongamos que $n$ es una potencia de $q$, digamos $n=q^k$, para que la división $n/q$ siempre se pueda hacer en forma exacta.\n",
        "Entonces\n",
        "\n",
        "$$\n",
        "T(q^{k})=pT(q^{k-1})+C(q^r)^{k}\n",
        "$$\n",
        "\n",
        "Si introducimos una nueva función incógnita $a_k = T(q^{k})$, podemos reescribir la ecuación como\n",
        "\n",
        "$$\n",
        "a_{k}=pa_{k-1}+C(q^r)^{k}\n",
        "$$\n",
        "\n",
        "la cual es de un tipo que ya sabemos resolver.\n",
        "Su solución es\n",
        "\n",
        "$$\n",
        "\\begin{align}\n",
        "a_{k} & =a_{0}p^{k}+C\\sum_{1\\leq j\\leq k}(q^r)^{j}p^{k-j}\\\\\n",
        "      & = p^k \\left( a_0 + C \\sum_{1\\leq j\\leq k} \\left(\\frac{q^r}{p}\\right)^j \\right)\n",
        "\\end{align}\n",
        "$$\n",
        "\n",
        "El comportamiento de esta sumatoria depende de si el cuociente $q^r/p$ es menor, igual o mayor que $1$.\n",
        "\n",
        "Antes de analizar cada caso, observemos que $n=q^k$ implica que $k=\\log_q{n}$, y\n",
        "\n",
        "$$\n",
        "p^k = p^{\\log_{q}n}=(q^{\\log_{q}p})^{\\log_{q}n}=(q^{\\log_{q}n})^{\\log_{q}p}=n^{\\log_{q}p}\n",
        "$$\n",
        "\n",
        "con lo cual la solución puede escribirse como\n",
        "\n",
        "$$\n",
        "T(n)=n^{\\log_{q}p} \\left( T(1)+C \\sum_{1\\leq j\\leq\\log_{q}n} \\left(\\frac{q^r}{p}\\right)^{j}\\right)\n",
        "$$\n",
        "\n",
        "### Caso $q^r<p$:\n",
        "\n",
        "En este caso, la sumatoria está acotada por una constante, porque la serie respectiva es convergente, de modo que\n",
        "\n",
        "$$\n",
        "T(n)=\\Theta(n^{\\log_{q}p})\n",
        "$$\n",
        "\n",
        "### Caso $q^r=p$:\n",
        "\n",
        "En este caso la sumatoria es logarítmica, y $\\log_q{p}=r$, de modo que\n",
        "\n",
        "$$\n",
        "T(n) = \\Theta(n^r \\log{n})\n",
        "$$\n",
        "\n",
        "### Caso $q^r>p$:\n",
        "\n",
        "En este caso la sumatoria es la suma de una progresión geométrica, que podemos escribir en forma cerrada como\n",
        "\n",
        "$$\n",
        "\\begin{align}\n",
        "T(n) &= n^{\\log_q{p}}\\left( T(1)+C\\frac{q^r}{p}\\frac{\\left( \\frac{q^r}{p} \\right) ^{\\log_q{n}}-1}{\\frac{q^r}{p}-1}  \\right)\\\\\n",
        "     &= \\Theta(n^{\\log_q{p}}+n^r)\\\\\n",
        "     & = \\Theta(n^r) \\text{ porque } \\log_q{p}<r\n",
        "\\end{align}\n",
        "$$\n",
        "\n",
        "En conclusión, hemos demostrado lo siguiente:\n",
        "\n",
        "### Teorema Maestro\n",
        "\n",
        "La ecuación\n",
        "\n",
        "$$\n",
        "T(n)=pT(\\frac{n}{q})+Cn^r\n",
        "$$\n",
        "\n",
        "tiene solución\n",
        "\n",
        "$$\n",
        "T(n) =\n",
        "\\begin{cases}\n",
        "\\Theta(n^r) & \\text{ si } p<q^r\\\\\n",
        "\\Theta(n^r \\log{n}) & \\text{ si } p=q^r\\\\\n",
        "\\Theta(n^{\\log_q{p}}) & \\text{ si } p>q^r\n",
        "\\end{cases}\n",
        "$$"
      ]
    },
    {
      "cell_type": "markdown",
      "metadata": {
        "id": "dfsF05QlmOrw"
      },
      "source": [
        "---"
      ]
    },
    {
      "cell_type": "markdown",
      "metadata": {
        "id": "xVUse91MmOrx"
      },
      "source": [
        "### Ejercicio 2.3\n",
        "\n",
        "El método del ordenación **Stooge Sort** es un método recursivo que puede describirse de la siguiente manera:\n",
        "\n",
        "* Si el primer elemento es mayor que el último, los intercambiamos\n",
        "* Si hay 3 o más elementos en la lista, entonces:\n",
        "    * Ordenar los primeros 2/3 de la lista recursivamente\n",
        "    * Ordenar los últimos 2/3 de la lista, recursivamente, y\n",
        "    * Ordenar (¡de nuevo!) los primeros 2/3 de la lista.\n",
        "\n",
        "Escriba una ecuación que modele el tiempo de ejecución de Stooge Sort y resuélvala usando el Teorema Maestro."
      ]
    },
    {
      "cell_type": "markdown",
      "metadata": {
        "id": "0K7In4rPmOry"
      },
      "source": [
        "---"
      ]
    }
  ]
}